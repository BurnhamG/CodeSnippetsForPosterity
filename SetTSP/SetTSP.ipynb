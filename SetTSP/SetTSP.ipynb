{
 "cells": [
  {
   "cell_type": "markdown",
   "metadata": {},
   "source": [
    "# Set-TSP - Because There Is More Than One Place to Get Bread\n",
    "\n",
    "## This notebook was created to serve a blog post by the same name."
   ]
  },
  {
   "cell_type": "code",
   "execution_count": 1,
   "metadata": {
    "collapsed": true
   },
   "outputs": [],
   "source": [
    "# written in python 3.7.3\n",
    "import numpy as np\n",
    "from math import cos, asin, sqrt, degrees, atan2\n",
    "from geojson import LineString, Point, Feature, FeatureCollection\n",
    "import geojsonio\n",
    "import json\n",
    "import random\n",
    "random_seed = 42\n",
    "random.seed(random_seed)"
   ]
  },
  {
   "cell_type": "markdown",
   "metadata": {},
   "source": [
    "# Part I - The Geographic Building Blocks\n",
    "\n",
    "## For more information on Haversine formula, go to [this](https://en.wikipedia.org/wiki/Haversine_formula) wiki page, \n",
    "\n",
    "## and for the specific formulation used here go to [this](https://stackoverflow.com/questions/27928/calculate-distance-between-two-latitude-longitude-points-haversine-formula/21623206#21623206) Stackoverflow answer"
   ]
  },
  {
   "cell_type": "code",
   "execution_count": 60,
   "metadata": {
    "collapsed": false
   },
   "outputs": [],
   "source": [
    "p = 0.017453292519943295  # Pi / 180\n",
    "r = 12742000  # Earth's radius is ~6371km => r = 2 * Earth's radius\n",
    "\n",
    "class GeoPoint:\n",
    "    def __init__(self, lng: float, lat: float):\n",
    "        # Why 5 digits? According to https://en.wikipedia.org/wiki/Decimal_degrees it's 1m. accuracy.\n",
    "        self.lng = round(lng, 5)\n",
    "        self.lat = round(lat, 5)\n",
    "        \n",
    "    def __repr__(self):\n",
    "        # Copy-pastable format for most map applications\n",
    "        return f\"[{self.lng}, {self.lat}]\"\n",
    "    \n",
    "    def get_dist_from(self, other) -> int:\n",
    "        # Return non-euclidean distance in meters, using Haversine formula\n",
    "        # For more information on this formulation go to \n",
    "        a = (0.5 \n",
    "             - cos((other.lat - self.lat) * p)/2 \n",
    "             + (cos(self.lat * p) \n",
    "                * cos(other.lat * p) \n",
    "                * (1 - cos((other.lng - self.lng) * p)) / 2))\n",
    "        d = int(r * asin(sqrt(a))) \n",
    "        return d\n",
    "    \n",
    "    def get_angle_from(self, other) -> float:\n",
    "        x = other.lng - self.lng\n",
    "        y = other.lat - self.lat\n",
    "        a = degrees(atan2(y, x))\n",
    "        return a\n",
    "\n",
    "\n",
    "def get_geo_point_of_center(geo_points: [GeoPoint]) -> GeoPoint:\n",
    "    lng_list, lat_list = list(zip(*[[g.lng, g.lat] for g in geo_points]))\n",
    "    lng_center, lat_center = np.mean(np.array([lng_list, lat_list]), axis=1)\n",
    "    return GeoPoint(lng_center, lat_center)\n"
   ]
  },
  {
   "cell_type": "code",
   "execution_count": 6,
   "metadata": {
    "collapsed": false
   },
   "outputs": [
    {
     "data": {
      "text/plain": [
       "5793"
      ]
     },
     "execution_count": 6,
     "metadata": {},
     "output_type": "execute_result"
    }
   ],
   "source": [
    "beer_2 = GeoPoint(34.899868, 32.177147)\n",
    "veg_1 = GeoPoint(34.899793, 32.178663)\n",
    "bread_2 = GeoPoint(34.907224, 32.175415)\n",
    "bread_2.get_dist_from(GeoPoint(34.847480, 32.187983))\n"
   ]
  },
  {
   "cell_type": "code",
   "execution_count": null,
   "metadata": {
    "collapsed": true
   },
   "outputs": [],
   "source": []
  },
  {
   "cell_type": "code",
   "execution_count": null,
   "metadata": {
    "collapsed": true
   },
   "outputs": [],
   "source": []
  },
  {
   "cell_type": "code",
   "execution_count": null,
   "metadata": {
    "collapsed": true
   },
   "outputs": [],
   "source": []
  },
  {
   "cell_type": "code",
   "execution_count": null,
   "metadata": {
    "collapsed": true
   },
   "outputs": [],
   "source": []
  },
  {
   "cell_type": "code",
   "execution_count": null,
   "metadata": {
    "collapsed": true
   },
   "outputs": [],
   "source": []
  },
  {
   "cell_type": "code",
   "execution_count": null,
   "metadata": {
    "collapsed": true
   },
   "outputs": [],
   "source": []
  },
  {
   "cell_type": "code",
   "execution_count": 105,
   "metadata": {
    "collapsed": false
   },
   "outputs": [
    {
     "data": {
      "text/plain": [
       "array([[   0,  600,  550,  600,  650,  400,  150],\n",
       "       [ 600,    0,  170,  900, 1100,  850,  550],\n",
       "       [ 550,  170,    0,  750, 1000,  850,  400],\n",
       "       [ 600,  900,  750,    0,  900,  750,  600],\n",
       "       [ 650, 1100, 1000,  900,    0,  260,  700],\n",
       "       [ 400,  850,  850,  750,  260,    0,  500],\n",
       "       [ 150,  550,  400,  600,  700,  500,    0]])"
      ]
     },
     "execution_count": 105,
     "metadata": {},
     "output_type": "execute_result"
    }
   ],
   "source": [
    "distances_array = np.array([[0, 600, 550, 600, 650, 400, 150], \n",
    "                            [0, 0, 170, 900, 1100, 850, 550], \n",
    "                            [0, 0, 0, 750, 1000, 850, 400], \n",
    "                            [0, 0, 0, 0, 900, 750, 600], \n",
    "                            [0, 0, 0, 0, 0, 260, 700], \n",
    "                            [0, 0, 0, 0, 0, 0, 500], \n",
    "                            [0] * 7])\n",
    "distances_array += distances_array.transpose()\n",
    "distances_array"
   ]
  },
  {
   "cell_type": "code",
   "execution_count": null,
   "metadata": {
    "collapsed": true
   },
   "outputs": [],
   "source": []
  },
  {
   "cell_type": "code",
   "execution_count": null,
   "metadata": {
    "collapsed": true
   },
   "outputs": [],
   "source": []
  },
  {
   "cell_type": "code",
   "execution_count": 56,
   "metadata": {
    "collapsed": true
   },
   "outputs": [],
   "source": [
    "def euclidean_dist(geo_point_1: GeoPoint, geo_point_2: GeoPoint):\n",
    "    d = np.linalg.norm(np.array([geo_point_1.lat, geo_point_1.lng])\n",
    "                       - np.array([geo_point_2.lat, geo_point_2.lng]))\n",
    "    return d"
   ]
  },
  {
   "cell_type": "code",
   "execution_count": 61,
   "metadata": {
    "collapsed": true
   },
   "outputs": [],
   "source": [
    "n_points = 10\n",
    "geo_points = [GeoPoint(34.8 + (0.1 * random.random()), 32.1 + (0.1 * random.random()))\n",
    "              for _ in range(n_points)]\n",
    "distances_array = np.array([[g_to.get_dist_from(g_from)\n",
    "                             for g_to in geo_points]\n",
    "                            for g_from in geo_points])"
   ]
  },
  {
   "cell_type": "code",
   "execution_count": 62,
   "metadata": {
    "collapsed": true
   },
   "outputs": [],
   "source": [
    "def DP_TSP(n, distances_array):\n",
    "    all_points_set = set(range(n))\n",
    "\n",
    "    memo = {tuple([i]): tuple([i, 0]) for i in range(n)}\n",
    "    queue = [tuple([i]) for i in range(n)]\n",
    "\n",
    "    while queue:\n",
    "        prev_visited = queue.pop(0)\n",
    "        if set(prev_visited) == all_points_set:\n",
    "            continue\n",
    "\n",
    "        prev_last_point, prev_dist = memo[prev_visited]\n",
    "\n",
    "        to_visit = all_points_set.difference(set(prev_visited))\n",
    "        for new_last_point in to_visit:\n",
    "            new_visited = tuple(sorted(list(prev_visited) + [new_last_point]))\n",
    "            new_dist = prev_dist + distances_array[prev_last_point][new_last_point]\n",
    "\n",
    "            if new_visited not in memo:\n",
    "                memo[new_visited] = tuple([new_last_point, new_dist])\n",
    "                queue += [new_visited]\n",
    "            else:\n",
    "                if memo[new_visited][1] > new_dist:\n",
    "                    memo[new_visited] = tuple([new_last_point, new_dist])\n",
    "                    \n",
    "    return memo[tuple(range(n))][1]\n",
    "    "
   ]
  },
  {
   "cell_type": "code",
   "execution_count": 63,
   "metadata": {
    "collapsed": false
   },
   "outputs": [
    {
     "name": "stdout",
     "output_type": "stream",
     "text": [
      "26047\n",
      "Wall time: 8.98 ms\n"
     ]
    }
   ],
   "source": [
    "%%time\n",
    "\n",
    "print(DP_TSP(n_points, distances_array))"
   ]
  },
  {
   "cell_type": "code",
   "execution_count": 107,
   "metadata": {
    "collapsed": false
   },
   "outputs": [
    {
     "name": "stdout",
     "output_type": "stream",
     "text": [
      "(0, 1) 1 600\n",
      "(0, 2) 2 550\n",
      "(0, 3) 3 600\n",
      "(0, 4) 4 650\n",
      "(0, 5) 5 400\n",
      "(0, 6) 6 150\n",
      "(1, 2) 2 170\n",
      "(1, 3) 3 900\n",
      "(1, 4) 4 1100\n",
      "(1, 5) 5 850\n",
      "(1, 6) 6 550\n",
      "(2, 3) 3 750\n",
      "(2, 4) 4 1000\n",
      "(2, 5) 5 850\n",
      "(2, 6) 6 400\n",
      "(3, 4) 4 900\n",
      "(3, 5) 5 750\n",
      "(3, 6) 6 600\n",
      "(4, 5) 5 260\n",
      "(4, 6) 6 700\n",
      "(5, 6) 6 500\n",
      "(0, 1, 2) 2 770\n",
      "(0, 1, 3) 3 1500\n",
      "(0, 1, 4) 4 1700\n",
      "(0, 1, 5) 5 1450\n",
      "(0, 1, 6) 6 1150\n",
      "(0, 1, 2) 1 720\n",
      "(0, 2, 3) 3 1300\n",
      "(0, 2, 4) 4 1550\n",
      "(0, 2, 5) 5 1400\n",
      "(0, 2, 6) 6 950\n",
      "(0, 3, 4) 4 1500\n",
      "(0, 3, 5) 5 1350\n",
      "(0, 3, 6) 6 1200\n",
      "(0, 4, 5) 5 910\n",
      "(0, 4, 6) 6 1350\n",
      "(0, 1, 5) 1 1250\n",
      "(0, 2, 5) 2 1250\n",
      "(0, 3, 5) 3 1150\n",
      "(0, 4, 5) 4 660\n",
      "(0, 5, 6) 6 900\n",
      "(0, 1, 6) 1 700\n",
      "(0, 2, 6) 2 550\n",
      "(0, 3, 6) 3 750\n",
      "(0, 4, 6) 4 850\n",
      "(0, 5, 6) 5 650\n",
      "(1, 2, 3) 3 920\n",
      "(1, 2, 4) 4 1170\n",
      "(1, 2, 5) 5 1020\n",
      "(1, 2, 6) 6 570\n",
      "(1, 3, 4) 4 1800\n",
      "(1, 3, 5) 5 1650\n",
      "(1, 3, 6) 6 1500\n",
      "(1, 4, 5) 5 1360\n",
      "(1, 4, 6) 6 1800\n",
      "(1, 3, 5) 3 1600\n",
      "(1, 4, 5) 4 1110\n",
      "(1, 5, 6) 6 1350\n",
      "(1, 3, 6) 3 1150\n",
      "(1, 4, 6) 4 1250\n",
      "(1, 5, 6) 5 1050\n",
      "(2, 3, 4) 4 1650\n",
      "(2, 3, 5) 5 1500\n",
      "(2, 3, 6) 6 1350\n",
      "(2, 4, 5) 5 1260\n",
      "(2, 4, 6) 6 1700\n",
      "(2, 4, 5) 4 1110\n",
      "(2, 5, 6) 6 1350\n",
      "(2, 3, 6) 3 1000\n",
      "(2, 4, 6) 4 1100\n",
      "(2, 5, 6) 5 900\n",
      "(3, 4, 5) 5 1160\n",
      "(3, 4, 6) 6 1600\n",
      "(3, 4, 5) 4 1010\n",
      "(3, 5, 6) 6 1250\n",
      "(3, 4, 6) 4 1300\n",
      "(3, 5, 6) 5 1100\n",
      "(4, 5, 6) 6 760\n",
      "(0, 1, 2, 3) 3 1620\n",
      "(0, 1, 2, 4) 4 1820\n",
      "(0, 1, 2, 5) 5 1570\n",
      "(0, 1, 2, 6) 6 1270\n",
      "(0, 1, 3, 4) 4 2400\n",
      "(0, 1, 3, 5) 5 2250\n",
      "(0, 1, 3, 6) 6 2100\n",
      "(0, 1, 4, 5) 5 1960\n",
      "(0, 1, 4, 6) 6 2400\n",
      "(0, 1, 2, 5) 2 1420\n",
      "(0, 1, 3, 5) 3 2150\n",
      "(0, 1, 5, 6) 6 1800\n",
      "(0, 1, 2, 6) 2 870\n",
      "(0, 1, 3, 6) 3 1600\n",
      "(0, 1, 4, 6) 4 1800\n",
      "(0, 1, 5, 6) 5 1550\n",
      "(0, 2, 3, 4) 4 2200\n",
      "(0, 2, 3, 5) 5 2050\n",
      "(0, 2, 3, 6) 6 1900\n",
      "(0, 2, 4, 5) 5 1810\n",
      "(0, 2, 4, 6) 6 2250\n",
      "(0, 2, 3, 5) 3 2000\n",
      "(0, 2, 5, 6) 6 1650\n",
      "(0, 1, 2, 6) 1 720\n",
      "(0, 2, 3, 6) 3 1300\n",
      "(0, 2, 4, 6) 4 1550\n",
      "(0, 2, 5, 6) 5 1400\n",
      "(0, 3, 4, 5) 5 1760\n",
      "(0, 3, 4, 6) 6 2200\n",
      "(0, 1, 3, 5) 1 2050\n",
      "(0, 2, 3, 5) 2 1900\n",
      "(0, 3, 5, 6) 6 1750\n",
      "(0, 3, 4, 6) 4 1650\n",
      "(0, 3, 5, 6) 5 1500\n",
      "(0, 1, 4, 5) 1 1760\n",
      "(0, 2, 4, 5) 2 1660\n",
      "(0, 3, 4, 5) 3 1560\n",
      "(0, 4, 5, 6) 6 1360\n",
      "(0, 4, 5, 6) 5 1110\n",
      "(0, 1, 5, 6) 1 1500\n",
      "(0, 3, 5, 6) 3 1400\n",
      "(0, 4, 5, 6) 4 910\n",
      "(0, 1, 2, 3) 0 1520\n",
      "(1, 2, 3, 4) 4 1820\n",
      "(1, 2, 3, 5) 5 1670\n",
      "(1, 2, 3, 6) 6 1520\n",
      "(1, 2, 4, 5) 5 1430\n",
      "(1, 2, 4, 6) 6 1870\n",
      "(1, 2, 4, 5) 4 1280\n",
      "(1, 2, 5, 6) 6 1520\n",
      "(1, 2, 3, 6) 3 1170\n",
      "(1, 2, 4, 6) 4 1270\n",
      "(1, 2, 5, 6) 5 1070\n",
      "(1, 3, 4, 5) 5 2060\n",
      "(1, 3, 4, 6) 6 2500\n",
      "(1, 3, 5, 6) 6 2200\n",
      "(1, 3, 4, 6) 4 2050\n",
      "(1, 3, 5, 6) 5 1900\n",
      "(1, 3, 4, 5) 3 2010\n",
      "(1, 4, 5, 6) 6 1810\n",
      "(1, 4, 5, 6) 5 1510\n",
      "(0, 1, 5, 6) 0 1450\n",
      "(1, 3, 5, 6) 3 1800\n",
      "(1, 4, 5, 6) 4 1310\n",
      "(2, 3, 4, 5) 5 1910\n",
      "(2, 3, 4, 6) 6 2350\n",
      "(2, 3, 4, 5) 4 1760\n",
      "(2, 3, 5, 6) 6 2000\n",
      "(2, 3, 4, 6) 4 1900\n",
      "(2, 3, 5, 6) 5 1750\n",
      "(2, 4, 5, 6) 6 1810\n",
      "(2, 4, 5, 6) 5 1360\n",
      "(0, 2, 5, 6) 0 1300\n",
      "(2, 3, 5, 6) 3 1650\n",
      "(2, 4, 5, 6) 4 1160\n",
      "(3, 4, 5, 6) 6 1710\n",
      "(3, 4, 5, 6) 5 1560\n",
      "(3, 4, 5, 6) 4 1360\n",
      "(0, 1, 2, 3, 4) 4 2170\n",
      "(0, 1, 2, 3, 5) 5 1920\n",
      "(0, 1, 2, 3, 6) 6 1670\n",
      "(0, 1, 2, 4, 5) 5 2080\n",
      "(0, 1, 2, 4, 6) 6 2520\n",
      "(0, 1, 2, 5, 6) 6 1820\n",
      "(0, 1, 2, 3, 6) 3 1620\n",
      "(0, 1, 2, 4, 6) 4 1820\n",
      "(0, 1, 2, 5, 6) 5 1570\n",
      "(0, 1, 3, 4, 5) 5 2660\n",
      "(0, 1, 3, 4, 6) 6 3100\n",
      "(0, 1, 3, 5, 6) 6 2600\n",
      "(0, 1, 3, 4, 6) 4 2500\n",
      "(0, 1, 3, 5, 6) 5 2350\n",
      "(0, 1, 2, 4, 5) 2 1930\n",
      "(0, 1, 4, 5, 6) 6 2310\n",
      "(0, 1, 4, 5, 6) 5 2060\n",
      "(0, 1, 3, 5, 6) 3 2050\n",
      "(0, 2, 3, 4, 5) 5 2460\n",
      "(0, 2, 3, 4, 6) 6 2900\n",
      "(0, 2, 3, 5, 6) 6 2300\n",
      "(0, 2, 3, 4, 6) 4 2200\n",
      "(0, 2, 3, 5, 6) 5 2050\n",
      "(0, 1, 2, 4, 5) 1 1830\n",
      "(0, 2, 3, 4, 5) 3 2410\n",
      "(0, 2, 4, 5, 6) 6 2060\n",
      "(0, 2, 4, 5, 6) 5 1810\n",
      "(0, 2, 3, 5, 6) 3 1900\n",
      "(0, 1, 3, 4, 5) 1 2460\n",
      "(0, 2, 3, 4, 5) 2 2310\n",
      "(0, 3, 4, 5, 6) 6 2160\n",
      "(0, 3, 4, 5, 6) 5 1910\n",
      "(0, 1, 4, 5, 6) 1 2010\n",
      "(0, 3, 4, 5, 6) 3 1810\n",
      "(1, 2, 3, 4, 5) 5 2080\n",
      "(1, 2, 3, 4, 6) 6 2520\n",
      "(1, 2, 3, 4, 5) 4 1930\n",
      "(1, 2, 3, 5, 6) 6 2170\n",
      "(1, 2, 3, 4, 6) 4 2070\n",
      "(1, 2, 3, 5, 6) 5 1920\n",
      "(1, 2, 4, 5, 6) 6 1980\n",
      "(1, 2, 4, 5, 6) 5 1530\n",
      "(0, 1, 2, 5, 6) 0 1470\n",
      "(1, 2, 3, 5, 6) 3 1820\n",
      "(1, 2, 4, 5, 6) 4 1330\n",
      "(1, 3, 4, 5, 6) 6 2610\n",
      "(1, 3, 4, 5, 6) 5 2310\n",
      "(0, 1, 4, 5, 6) 0 1960\n",
      "(1, 3, 4, 5, 6) 3 2210\n",
      "(2, 3, 4, 5, 6) 6 2460\n",
      "(2, 3, 4, 5, 6) 5 2160\n",
      "(2, 3, 4, 5, 6) 3 2060\n",
      "(0, 1, 2, 3, 4, 5) 5 2430\n",
      "(0, 1, 2, 3, 4, 6) 6 2870\n",
      "(0, 1, 2, 3, 4, 5) 4 2180\n",
      "(0, 1, 2, 3, 5, 6) 6 2420\n",
      "(0, 1, 2, 3, 4, 6) 4 2520\n",
      "(0, 1, 2, 3, 5, 6) 5 2370\n",
      "(0, 1, 2, 4, 5, 6) 6 2380\n",
      "(0, 1, 2, 4, 5, 6) 5 2080\n",
      "(0, 1, 2, 3, 5, 6) 3 2070\n",
      "(0, 1, 3, 4, 5, 6) 6 3010\n",
      "(0, 1, 3, 4, 5, 6) 5 2760\n",
      "(0, 1, 3, 4, 5, 6) 3 2560\n",
      "(0, 2, 3, 4, 5, 6) 6 2710\n",
      "(0, 2, 3, 4, 5, 6) 5 2460\n",
      "(1, 2, 3, 4, 5, 6) 6 2630\n",
      "(1, 2, 3, 4, 5, 6) 5 2330\n",
      "(0, 1, 2, 4, 5, 6) 0 1980\n",
      "(1, 2, 3, 4, 5, 6) 3 2230\n",
      "(0, 1, 2, 3, 4, 5, 6) 6 2880\n",
      "(0, 1, 2, 3, 4, 5, 6) 5 2780\n",
      "(0, 1, 2, 3, 4, 5, 6) 3 2580\n"
     ]
    }
   ],
   "source": [
    "n = 7\n",
    "all_points_set = set(range(n))\n",
    "\n",
    "memo = {tuple([i]): tuple([i, 0]) for i in range(n)}\n",
    "queue = [tuple([i]) for i in range(n)]\n",
    "\n",
    "while queue:\n",
    "    prev_visited = queue.pop(0)\n",
    "    if set(prev_visited) == all_points_set:\n",
    "        continue\n",
    "        \n",
    "    prev_last_point, prev_dist = memo[prev_visited]\n",
    "    \n",
    "    to_visit = all_points_set.difference(set(prev_visited))\n",
    "    for new_last_point in to_visit:\n",
    "        new_visited = tuple(sorted(list(prev_visited) + [new_last_point]))\n",
    "        new_dist = prev_dist + distances_array[prev_last_point][new_last_point]\n",
    "        \n",
    "        if new_visited not in memo:\n",
    "            memo[new_visited] = tuple([new_last_point, new_dist])\n",
    "            print(new_visited, new_last_point, new_dist)\n",
    "            queue += [new_visited]\n",
    "        else:\n",
    "            if memo[new_visited][1] > new_dist:\n",
    "                memo[new_visited] = tuple([new_last_point, new_dist])\n",
    "                print(new_visited, new_last_point, new_dist)\n",
    "    \n",
    "\n",
    "        \n",
    "\n",
    "\n",
    "\n"
   ]
  },
  {
   "cell_type": "code",
   "execution_count": 108,
   "metadata": {
    "collapsed": false
   },
   "outputs": [
    {
     "name": "stdout",
     "output_type": "stream",
     "text": [
      "[0, 1, 2, 3, 4, 5, 6] 3\n",
      "[0, 1, 2, 4, 5, 6] 0\n",
      "[1, 2, 4, 5, 6] 4\n",
      "[1, 2, 5, 6] 5\n",
      "[1, 2, 6] 6\n",
      "[1, 2] 2\n",
      "[1] 1\n"
     ]
    },
    {
     "data": {
      "text/plain": [
       "[3, 0, 4, 5, 6, 2, 1]"
      ]
     },
     "execution_count": 108,
     "metadata": {},
     "output_type": "execute_result"
    }
   ],
   "source": [
    "route_reversed = []\n",
    "visited = list(range(n))\n",
    "while len(visited) > 0:\n",
    "    last_p = memo[tuple(visited)][0]\n",
    "    print(visited, last_p)\n",
    "    route_reversed += [last_p] \n",
    "    visited.remove(last_p) \n",
    "    \n",
    "route_reversed\n",
    "    "
   ]
  },
  {
   "cell_type": "code",
   "execution_count": 109,
   "metadata": {
    "collapsed": false
   },
   "outputs": [
    {
     "data": {
      "text/plain": [
       "2280"
      ]
     },
     "execution_count": 109,
     "metadata": {},
     "output_type": "execute_result"
    }
   ],
   "source": [
    "get_route_len(distances_array, [1, 2, 6, 0, 5, 4, 3])"
   ]
  },
  {
   "cell_type": "code",
   "execution_count": 103,
   "metadata": {
    "collapsed": true
   },
   "outputs": [],
   "source": [
    "rice = GeoPoint(34.904145, 32.178397)\n",
    "veg = GeoPoint(34.899660, 32.178243)\n",
    "pet= GeoPoint(34.899918, 32.177080)\n",
    "garden = GeoPoint(34.904370, 32.173966)\n",
    "pharm = GeoPoint(34.909027, 32.177480)\n",
    "pasta = GeoPoint(34.906774, 32.178279)\n",
    "pita = GeoPoint(34.903383, 32.177381)\n",
    "\n",
    "geo_points = [rice, veg, pet, garden, pharm, pasta, pita]\n",
    "visualize([1, 2, 6, 0, 5, 4, 3], geo_points)"
   ]
  },
  {
   "cell_type": "code",
   "execution_count": 74,
   "metadata": {
    "collapsed": true
   },
   "outputs": [],
   "source": [
    "a=tuple([1,2,3,5])"
   ]
  },
  {
   "cell_type": "code",
   "execution_count": 75,
   "metadata": {
    "collapsed": false
   },
   "outputs": [
    {
     "data": {
      "text/plain": [
       "(1, 2, 5)"
      ]
     },
     "execution_count": 75,
     "metadata": {},
     "output_type": "execute_result"
    }
   ],
   "source": [
    "a = list(a)\n",
    "a.remove(3)\n",
    "tuple(sorted(a))"
   ]
  },
  {
   "cell_type": "code",
   "execution_count": 55,
   "metadata": {
    "collapsed": false
   },
   "outputs": [
    {
     "data": {
      "text/plain": [
       "(3, 2580)"
      ]
     },
     "execution_count": 55,
     "metadata": {},
     "output_type": "execute_result"
    }
   ],
   "source": [
    "memo[tuple(range(n))]"
   ]
  },
  {
   "cell_type": "code",
   "execution_count": 51,
   "metadata": {
    "collapsed": false
   },
   "outputs": [
    {
     "data": {
      "text/plain": [
       "{(0,): (0, 0),\n",
       " (1,): (1, 0),\n",
       " (2,): (2, 0),\n",
       " (3,): (3, 0),\n",
       " (4,): (4, 0),\n",
       " (5,): (5, 0),\n",
       " (6,): (6, 0),\n",
       " (0, 6): (0, 150),\n",
       " (1, 6): (1, 550),\n",
       " (2, 6): (2, 400),\n",
       " (3, 6): (3, 600),\n",
       " (4, 6): (4, 700),\n",
       " (5, 6): (5, 500),\n",
       " (0, 5, 6): (5, 550),\n",
       " (1, 5, 6): (1, 1350),\n",
       " (2, 5, 6): (5, 1250),\n",
       " (3, 5, 6): (3, 1250),\n",
       " (4, 5, 6): (4, 760),\n",
       " (0, 4, 5, 6): (6, 1060),\n",
       " (1, 4, 5, 6): (1, 1860),\n",
       " (2, 4, 5, 6): (6, 1660),\n",
       " (3, 4, 5, 6): (3, 1660),\n",
       " (0, 3, 4, 5, 6): (6, 1910),\n",
       " (1, 3, 4, 5, 6): (1, 2560),\n",
       " (2, 3, 4, 5, 6): (6, 2310),\n",
       " (0, 2, 3, 4, 5, 6): (6, 2610),\n",
       " (1, 2, 3, 4, 5, 6): (1, 2580),\n",
       " (0, 1, 2, 3, 4, 5, 6): (6, 2830),\n",
       " (0, 1, 3, 4, 5, 6): (6, 2810),\n",
       " (0, 2, 4, 5, 6): (2, 1960),\n",
       " (1, 2, 4, 5, 6): (1, 1930),\n",
       " (0, 1, 2, 4, 5, 6): (6, 2180),\n",
       " (0, 1, 4, 5, 6): (1, 2010),\n",
       " (0, 3, 5, 6): (3, 1500),\n",
       " (1, 3, 5, 6): (1, 2150),\n",
       " (2, 3, 5, 6): (6, 1900),\n",
       " (0, 2, 3, 5, 6): (6, 2200),\n",
       " (1, 2, 3, 5, 6): (1, 2170),\n",
       " (0, 1, 2, 3, 5, 6): (6, 2420),\n",
       " (0, 1, 3, 5, 6): (6, 2400),\n",
       " (0, 2, 5, 6): (5, 1350),\n",
       " (1, 2, 5, 6): (5, 1420),\n",
       " (0, 1, 2, 5, 6): (5, 1570),\n",
       " (0, 1, 5, 6): (1, 1500),\n",
       " (0, 4, 6): (4, 800),\n",
       " (1, 4, 6): (4, 1650),\n",
       " (2, 4, 6): (4, 1400),\n",
       " (3, 4, 6): (4, 1500),\n",
       " (0, 3, 4, 6): (6, 1650),\n",
       " (1, 3, 4, 6): (6, 2350),\n",
       " (2, 3, 4, 6): (6, 2050),\n",
       " (0, 2, 3, 4, 6): (6, 2350),\n",
       " (1, 2, 3, 4, 6): (6, 2370),\n",
       " (0, 1, 2, 3, 4, 6): (6, 2570),\n",
       " (0, 1, 3, 4, 6): (6, 2550),\n",
       " (0, 2, 4, 6): (4, 1600),\n",
       " (1, 2, 4, 6): (4, 1670),\n",
       " (0, 1, 2, 4, 6): (4, 1820),\n",
       " (0, 1, 4, 6): (4, 1800),\n",
       " (0, 3, 6): (3, 750),\n",
       " (1, 3, 6): (3, 1450),\n",
       " (2, 3, 6): (3, 1150),\n",
       " (0, 2, 3, 6): (6, 1450),\n",
       " (1, 2, 3, 6): (3, 1470),\n",
       " (0, 1, 2, 3, 6): (6, 1670),\n",
       " (0, 1, 3, 6): (6, 1650),\n",
       " (0, 2, 6): (2, 700),\n",
       " (1, 2, 6): (1, 570),\n",
       " (0, 1, 2, 6): (6, 920),\n",
       " (0, 1, 6): (1, 750),\n",
       " (0, 5): (0, 400),\n",
       " (1, 5): (1, 850),\n",
       " (2, 5): (2, 850),\n",
       " (3, 5): (3, 750),\n",
       " (4, 5): (4, 260),\n",
       " (0, 4, 5): (0, 910),\n",
       " (1, 4, 5): (1, 1360),\n",
       " (2, 4, 5): (2, 1260),\n",
       " (3, 4, 5): (3, 1160),\n",
       " (0, 3, 4, 5): (3, 1510),\n",
       " (1, 3, 4, 5): (1, 2060),\n",
       " (2, 3, 4, 5): (2, 1910),\n",
       " (0, 2, 3, 4, 5): (2, 2310),\n",
       " (1, 2, 3, 4, 5): (1, 2080),\n",
       " (0, 1, 2, 3, 4, 5): (3, 2630),\n",
       " (0, 1, 3, 4, 5): (1, 2360),\n",
       " (0, 2, 4, 5): (2, 1460),\n",
       " (1, 2, 4, 5): (1, 1430),\n",
       " (0, 1, 2, 4, 5): (0, 2030),\n",
       " (0, 1, 4, 5): (1, 1510),\n",
       " (0, 3, 5): (3, 1000),\n",
       " (1, 3, 5): (1, 1650),\n",
       " (2, 3, 5): (2, 1500),\n",
       " (0, 2, 3, 5): (5, 1700),\n",
       " (1, 2, 3, 5): (1, 1670),\n",
       " (0, 1, 2, 3, 5): (5, 1920),\n",
       " (0, 1, 3, 5): (5, 1900),\n",
       " (0, 2, 5): (2, 950),\n",
       " (1, 2, 5): (1, 1020),\n",
       " (0, 1, 2, 5): (5, 1170),\n",
       " (0, 1, 5): (1, 1000),\n",
       " (0, 4): (0, 650),\n",
       " (1, 4): (1, 1100),\n",
       " (2, 4): (2, 1000),\n",
       " (3, 4): (3, 900),\n",
       " (0, 3, 4): (3, 1250),\n",
       " (1, 3, 4): (1, 1800),\n",
       " (2, 3, 4): (2, 1650),\n",
       " (0, 2, 3, 4): (4, 1950),\n",
       " (1, 2, 3, 4): (1, 1820),\n",
       " (0, 1, 2, 3, 4): (4, 2170),\n",
       " (0, 1, 3, 4): (1, 2100),\n",
       " (0, 2, 4): (2, 1200),\n",
       " (1, 2, 4): (1, 1170),\n",
       " (0, 1, 2, 4): (4, 1420),\n",
       " (0, 1, 4): (1, 1250),\n",
       " (0, 3): (0, 600),\n",
       " (1, 3): (1, 900),\n",
       " (2, 3): (2, 750),\n",
       " (0, 2, 3): (2, 1150),\n",
       " (1, 2, 3): (1, 920),\n",
       " (0, 1, 2, 3): (3, 1370),\n",
       " (0, 1, 3): (1, 1200),\n",
       " (0, 2): (0, 550),\n",
       " (1, 2): (1, 170),\n",
       " (0, 1, 2): (0, 770),\n",
       " (0, 1): (0, 600)}"
      ]
     },
     "execution_count": 51,
     "metadata": {},
     "output_type": "execute_result"
    }
   ],
   "source": [
    "memo"
   ]
  },
  {
   "cell_type": "code",
   "execution_count": 104,
   "metadata": {
    "collapsed": false
   },
   "outputs": [
    {
     "name": "stdout",
     "output_type": "stream",
     "text": [
      "2280 [[1, 2, 6, 0, 5, 4, 3], [3, 1, 2, 6, 0, 5, 4], [3, 2, 1, 6, 0, 5, 4], [3, 4, 5, 0, 6, 2, 1], [4, 5, 0, 6, 1, 2, 3], [4, 5, 0, 6, 2, 1, 3]]\n"
     ]
    }
   ],
   "source": [
    "from itertools import permutations\n",
    "best_dist = float('inf')\n",
    "best_routes = []\n",
    "for p in permutations(range(7)):\n",
    "    d = get_route_len(distances_array, p)\n",
    "    if d < best_dist:\n",
    "        best_dist = d\n",
    "        best_routes = [list(p)]\n",
    "    elif d == best_dist:\n",
    "        best_routes += [list(p)]\n",
    "\n",
    "print(best_dist, best_routes)"
   ]
  },
  {
   "cell_type": "code",
   "execution_count": null,
   "metadata": {
    "collapsed": true
   },
   "outputs": [],
   "source": []
  },
  {
   "cell_type": "code",
   "execution_count": 36,
   "metadata": {
    "collapsed": false
   },
   "outputs": [
    {
     "data": {
      "text/plain": [
       "(0, 1, 2, 3, 4)"
      ]
     },
     "execution_count": 36,
     "metadata": {},
     "output_type": "execute_result"
    }
   ],
   "source": [
    "tuple(range(5))"
   ]
  },
  {
   "cell_type": "code",
   "execution_count": 22,
   "metadata": {
    "collapsed": false
   },
   "outputs": [
    {
     "data": {
      "text/plain": [
       "{0, 1, 2, 3, 4}"
      ]
     },
     "execution_count": 22,
     "metadata": {},
     "output_type": "execute_result"
    }
   ],
   "source": [
    "all_points"
   ]
  },
  {
   "cell_type": "code",
   "execution_count": 24,
   "metadata": {
    "collapsed": false
   },
   "outputs": [
    {
     "data": {
      "text/plain": [
       "[({0}, 0, 0), ({1}, 1, 0), ({2}, 2, 0), ({3}, 3, 0), ({4}, 4, 0)]"
      ]
     },
     "execution_count": 24,
     "metadata": {},
     "output_type": "execute_result"
    }
   ],
   "source": [
    "queue"
   ]
  },
  {
   "cell_type": "code",
   "execution_count": 25,
   "metadata": {
    "collapsed": false
   },
   "outputs": [
    {
     "name": "stdout",
     "output_type": "stream",
     "text": [
      "{4} 4 0\n"
     ]
    }
   ],
   "source": [
    "prev_visited_set, prev_last_point, prev_dist = queue.pop()\n",
    "print(prev_visited_set, prev_last_point, prev_dist)"
   ]
  },
  {
   "cell_type": "code",
   "execution_count": 27,
   "metadata": {
    "collapsed": false
   },
   "outputs": [
    {
     "data": {
      "text/plain": [
       "[0, 1, 2, 3]"
      ]
     },
     "execution_count": 27,
     "metadata": {},
     "output_type": "execute_result"
    }
   ],
   "source": [
    "to_visit_list = list(all_points_set.difference(prev_visited_set))\n",
    "to_visit_list"
   ]
  },
  {
   "cell_type": "code",
   "execution_count": 35,
   "metadata": {
    "collapsed": false
   },
   "outputs": [
    {
     "data": {
      "text/plain": [
       "{(0, 1, 2, 3)}"
      ]
     },
     "execution_count": 35,
     "metadata": {},
     "output_type": "execute_result"
    }
   ],
   "source": [
    "visited = set()\n",
    "visited.add(tuple(sorted(to_visit_list)))\n",
    "visited"
   ]
  },
  {
   "cell_type": "code",
   "execution_count": null,
   "metadata": {
    "collapsed": true
   },
   "outputs": [],
   "source": []
  },
  {
   "cell_type": "code",
   "execution_count": null,
   "metadata": {
    "collapsed": true
   },
   "outputs": [],
   "source": []
  },
  {
   "cell_type": "code",
   "execution_count": null,
   "metadata": {
    "collapsed": true
   },
   "outputs": [],
   "source": []
  },
  {
   "cell_type": "code",
   "execution_count": null,
   "metadata": {
    "collapsed": true
   },
   "outputs": [],
   "source": []
  },
  {
   "cell_type": "code",
   "execution_count": null,
   "metadata": {
    "collapsed": true
   },
   "outputs": [],
   "source": []
  },
  {
   "cell_type": "code",
   "execution_count": null,
   "metadata": {
    "collapsed": true
   },
   "outputs": [],
   "source": []
  },
  {
   "cell_type": "code",
   "execution_count": null,
   "metadata": {
    "collapsed": true
   },
   "outputs": [],
   "source": []
  },
  {
   "cell_type": "code",
   "execution_count": null,
   "metadata": {
    "collapsed": true
   },
   "outputs": [],
   "source": []
  },
  {
   "cell_type": "code",
   "execution_count": 19,
   "metadata": {
    "collapsed": true
   },
   "outputs": [],
   "source": [
    "a=set([1,2,3])"
   ]
  },
  {
   "cell_type": "code",
   "execution_count": 20,
   "metadata": {
    "collapsed": false
   },
   "outputs": [
    {
     "data": {
      "text/plain": [
       "{2, 3}"
      ]
     },
     "execution_count": 20,
     "metadata": {},
     "output_type": "execute_result"
    }
   ],
   "source": [
    "a.difference(set([1]))"
   ]
  },
  {
   "cell_type": "code",
   "execution_count": null,
   "metadata": {
    "collapsed": true
   },
   "outputs": [],
   "source": []
  },
  {
   "cell_type": "code",
   "execution_count": null,
   "metadata": {
    "collapsed": true
   },
   "outputs": [],
   "source": []
  },
  {
   "cell_type": "code",
   "execution_count": null,
   "metadata": {
    "collapsed": true
   },
   "outputs": [],
   "source": []
  },
  {
   "cell_type": "code",
   "execution_count": null,
   "metadata": {
    "collapsed": true
   },
   "outputs": [],
   "source": []
  },
  {
   "cell_type": "code",
   "execution_count": 7,
   "metadata": {
    "collapsed": true
   },
   "outputs": [],
   "source": [
    "def solve_tsp_dynamic(n_points, all_distances):\n",
    "    #initial value - just distance from 0 to every other point + keep the track of edges\n",
    "    A = {(frozenset([0, idx+1]), idx+1): (dist, [0,idx+1]) for idx,dist in enumerate(all_distances[0][1:])}\n",
    "    for m in range(2, n_points):\n",
    "        B = {}\n",
    "        for S in [frozenset(C) | {0} for C in itertools.combinations(range(1, n_points), m)]:\n",
    "            for j in S - {0}:\n",
    "                B[(S, j)] = min( [(A[(S-{j},k)][0] + all_distances[k][j], A[(S-{j},k)][1] + [j]) for k in S if k != 0 and k!=j])  #this will use 0th index of tuple for ordering, the same as if key=itemgetter(0) used\n",
    "        A = B\n",
    "    res = min([(A[d][0] + all_distances[0][d[1]], A[d][1]) for d in iter(A)])\n",
    "    return res[1]"
   ]
  },
  {
   "cell_type": "code",
   "execution_count": 8,
   "metadata": {
    "collapsed": false
   },
   "outputs": [
    {
     "data": {
      "text/plain": [
       "array([[   0,  600,  550,  600,  650,  400,  150],\n",
       "       [ 600,    0,  170,  900, 1100,  850,  550],\n",
       "       [ 550,  170,    0,  750, 1000,  850,  400],\n",
       "       [ 600,  900,  750,    0,  900,  750,  600],\n",
       "       [ 650, 1100, 1000,  900,    0,  260,  700],\n",
       "       [ 400,  850,  850,  750,  260,    0,  500],\n",
       "       [ 150,  550,  400,  600,  700,  500,    0]])"
      ]
     },
     "execution_count": 8,
     "metadata": {},
     "output_type": "execute_result"
    }
   ],
   "source": [
    "distances_array = np.array([[0, 600, 550, 600, 650, 400, 150], \n",
    "                            [0, 0, 170, 900, 1100, 850, 550], \n",
    "                            [0, 0, 0, 750, 1000, 850, 400], \n",
    "                            [0, 0, 0, 0, 900, 750, 600], \n",
    "                            [0, 0, 0, 0, 0, 260, 700], \n",
    "                            [0, 0, 0, 0, 0, 0, 500], \n",
    "                            [0] * 7])\n",
    "distances_array += distances_array.transpose()\n",
    "distances_array"
   ]
  },
  {
   "cell_type": "code",
   "execution_count": 11,
   "metadata": {
    "collapsed": false
   },
   "outputs": [],
   "source": [
    "import itertools\n",
    "route_idxs = solve_tsp_dynamic(7, distances_array)"
   ]
  },
  {
   "cell_type": "code",
   "execution_count": 102,
   "metadata": {
    "collapsed": true
   },
   "outputs": [],
   "source": [
    "# opens a new tab with the route visualization on geojson.io\n",
    "def visualize(route_idxs: [int], geo_points: [GeoPoint]):\n",
    "    lng_lat_list = [tuple([geo_points[i].lng, geo_points[i].lat])\n",
    "                    for i in route_idxs]\n",
    "    route = Feature(geometry=LineString(lng_lat_list),\n",
    "                    properties={\"name\": \"This is our route\",\n",
    "                                \"stroke\": \"#8B0000\"})\n",
    "    places = [Feature(geometry=Point(lng_lat), \n",
    "                      properties={\"name\": f\"Place {route_idxs[i]}\",\n",
    "                                  \"marker-symbol\": int(str(route_idxs[i])[-1]),\n",
    "                                  \"marker-color\": \"#00008B\"})\n",
    "              for i, lng_lat in enumerate(lng_lat_list)]\n",
    "    \n",
    "    feature_collection = FeatureCollection(features=[route] + places)\n",
    "    geojsonio.display(json.dumps(feature_collection));"
   ]
  },
  {
   "cell_type": "code",
   "execution_count": 14,
   "metadata": {
    "collapsed": false
   },
   "outputs": [],
   "source": [
    "rice = GeoPoint(34.904145, 32.178397)\n",
    "veg = GeoPoint(34.899660, 32.178243)\n",
    "pet= GeoPoint(34.899918, 32.177080)\n",
    "garden = GeoPoint(34.904370, 32.173966)\n",
    "pharm = GeoPoint(34.909027, 32.177480)\n",
    "pasta = GeoPoint(34.906774, 32.178279)\n",
    "pita = GeoPoint(34.903383, 32.177381)\n",
    "\n",
    "geo_points = [rice, veg, pet, garden, pharm, pasta, pita]\n",
    "visualize(route_idxs, geo_points)"
   ]
  },
  {
   "cell_type": "code",
   "execution_count": 15,
   "metadata": {
    "collapsed": true
   },
   "outputs": [],
   "source": [
    "def get_route_len(distances_array: np.array, route_idxs):\n",
    "    route_len = sum([distances_array[i1][i2]\n",
    "                     for i1, i2 in zip(route_idxs[:-1], route_idxs[1:])])\n",
    "    return route_len"
   ]
  },
  {
   "cell_type": "code",
   "execution_count": 16,
   "metadata": {
    "collapsed": false
   },
   "outputs": [
    {
     "data": {
      "text/plain": [
       "3030"
      ]
     },
     "execution_count": 16,
     "metadata": {},
     "output_type": "execute_result"
    }
   ],
   "source": [
    "get_route_len(distances_array, route_idxs)"
   ]
  },
  {
   "cell_type": "code",
   "execution_count": 17,
   "metadata": {
    "collapsed": false
   },
   "outputs": [
    {
     "data": {
      "text/plain": [
       "[0, 5, 4, 3, 1, 2, 6]"
      ]
     },
     "execution_count": 17,
     "metadata": {},
     "output_type": "execute_result"
    }
   ],
   "source": [
    "route_idxs"
   ]
  },
  {
   "cell_type": "code",
   "execution_count": 18,
   "metadata": {
    "collapsed": false
   },
   "outputs": [
    {
     "data": {
      "text/plain": [
       "2580"
      ]
     },
     "execution_count": 18,
     "metadata": {},
     "output_type": "execute_result"
    }
   ],
   "source": [
    "get_route_len(distances_array, [3, 6, 0, 5, 4, 2, 1])"
   ]
  },
  {
   "cell_type": "code",
   "execution_count": null,
   "metadata": {
    "collapsed": true
   },
   "outputs": [],
   "source": []
  }
 ],
 "metadata": {
  "anaconda-cloud": {},
  "kernelspec": {
   "display_name": "quay_rnd",
   "language": "python",
   "name": "quay_rnd"
  },
  "language_info": {
   "codemirror_mode": {
    "name": "ipython",
    "version": 3
   },
   "file_extension": ".py",
   "mimetype": "text/x-python",
   "name": "python",
   "nbconvert_exporter": "python",
   "pygments_lexer": "ipython3",
   "version": "3.7.3"
  }
 },
 "nbformat": 4,
 "nbformat_minor": 1
}
