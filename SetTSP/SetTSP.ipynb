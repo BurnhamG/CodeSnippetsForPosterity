{
 "cells": [
  {
   "cell_type": "markdown",
   "metadata": {},
   "source": [
    "# Set-TSP - Because There Is More Than One Place to Get Bread\n",
    "\n",
    "## This notebook was created to serve a blog post by the same name."
   ]
  },
  {
   "cell_type": "code",
   "execution_count": 1,
   "metadata": {
    "collapsed": true
   },
   "outputs": [],
   "source": [
    "# written in python 3.7.3\n",
    "import json\n",
    "import random\n",
    "\n",
    "import geojsonio\n",
    "import numpy as np\n",
    "import pandas as pd\n",
    "from geojson import LineString, Point, Feature, FeatureCollection\n",
    "from math import cos, asin, sqrt, degrees, atan2\n",
    "\n",
    "import matplotlib.pyplot as plt\n",
    "%matplotlib inline\n",
    "\n",
    "random_seed = 42\n",
    "random.seed(random_seed)"
   ]
  },
  {
   "cell_type": "markdown",
   "metadata": {},
   "source": [
    "# Part I - The Geographic Building Blocks\n",
    "\n",
    "### For more information on Haversine formula, go to [this](https://en.wikipedia.org/wiki/Haversine_formula) wiki page, \n",
    "\n",
    "### and for the specific formulation used here go to [this](https://stackoverflow.com/questions/27928/calculate-distance-between-two-latitude-longitude-points-haversine-formula/21623206#21623206) Stackoverflow answer"
   ]
  },
  {
   "cell_type": "code",
   "execution_count": 2,
   "metadata": {
    "collapsed": false
   },
   "outputs": [],
   "source": [
    "p = 0.017453292519943295  # Pi / 180\n",
    "r = 12742000  # Earth's radius is ~6371km => r = 2 * Earth's radius\n",
    "\n",
    "class GeoPoint:\n",
    "    def __init__(self, lng: float, lat: float, name_: str = None):\n",
    "        # Why 5 digits? According to https://en.wikipedia.org/wiki/Decimal_degrees it's 1m. accuracy.\n",
    "        self.lng = round(lng, 5)\n",
    "        self.lat = round(lat, 5)\n",
    "        self.name_ = name_\n",
    "        \n",
    "    def __repr__(self):\n",
    "        # Copy-pastable format for most map applications\n",
    "        name_str = f\"{self.name_}, \" if self.name_ is not None else \"\"\n",
    "        return f\"[{name_str}{self.lat}, {self.lng}]\"\n",
    "    \n",
    "    def get_dist_from(self, other) -> int:\n",
    "        # Return non-euclidean distance in meters, using Haversine formula\n",
    "        # For more information on this formulation go to \n",
    "        a = (0.5 \n",
    "             - cos((other.lat - self.lat) * p)/2 \n",
    "             + (cos(self.lat * p) \n",
    "                * cos(other.lat * p) \n",
    "                * (1 - cos((other.lng - self.lng) * p)) / 2))\n",
    "        d = int(r * asin(sqrt(a))) \n",
    "        return d"
   ]
  },
  {
   "cell_type": "code",
   "execution_count": 3,
   "metadata": {
    "collapsed": false
   },
   "outputs": [],
   "source": [
    "def get_all_geopoints_from_all_sets(all_sets):\n",
    "    geo_points = [g\n",
    "                  for set_ in all_sets\n",
    "                  for g in set_]\n",
    "    return geo_points"
   ]
  },
  {
   "cell_type": "code",
   "execution_count": 4,
   "metadata": {
    "collapsed": false
   },
   "outputs": [],
   "source": [
    "def get_distances_array_and_set_to_points_dict(all_sets):\n",
    "    all_geo_points = []\n",
    "    set_to_points_dict = {}\n",
    "    first_point_idx = 0\n",
    "    for idx, set_ in enumerate(all_sets):\n",
    "        all_geo_points += set_\n",
    "        n_points_in_set = len(set_)\n",
    "        set_to_points_dict[idx] = list(range(first_point_idx, first_point_idx + n_points_in_set))\n",
    "        first_point_idx += n_points_in_set\n",
    "\n",
    "    n_points = first_point_idx\n",
    "    distances_array = np.array([[all_geo_points[i].get_dist_from(all_geo_points[j])\n",
    "                                 for i in range(n_points)]\n",
    "                                for j in range(n_points)])\n",
    "\n",
    "    return all_geo_points, set_to_points_dict, distances_array"
   ]
  },
  {
   "cell_type": "code",
   "execution_count": 5,
   "metadata": {
    "collapsed": false
   },
   "outputs": [],
   "source": [
    "bread_0 = GeoPoint(lat=32.178500, lng=34.906531, name_=\"bread_0\")\n",
    "bread_1 = GeoPoint(lat=32.175431, lng=34.907089, name_=\"bread_1\")\n",
    "bread_2 = GeoPoint(lat=32.175041, lng=34.898474, name_=\"bread_2\")\n",
    "bread_set = [bread_0, bread_1, bread_2]\n",
    "\n",
    "veg_0 = GeoPoint(lat=32.178192, lng=34.899633, name_=\"veg_0\")\n",
    "veg_1 = GeoPoint(lat=32.176376, lng=34.902369, name_=\"veg_1\")\n",
    "veg_2 = GeoPoint(lat=32.174051, lng=34.899397, name_=\"veg_2\")\n",
    "veg_set = [veg_0, veg_1, veg_2]\n",
    "\n",
    "beer_0 = GeoPoint(lat=32.177774, lng=34.907175, name_=\"beer_0\")\n",
    "beer_1 = GeoPoint(lat=32.177102, lng=34.899719, name_=\"beer_1\")\n",
    "beer_set = [beer_0, beer_1]\n",
    "\n",
    "all_sets = [bread_set, veg_set, beer_set]"
   ]
  },
  {
   "cell_type": "code",
   "execution_count": 6,
   "metadata": {
    "collapsed": false
   },
   "outputs": [
    {
     "name": "stdout",
     "output_type": "stream",
     "text": [
      "[[bread_0, 32.1785, 34.90653], [bread_1, 32.17543, 34.90709], [bread_2, 32.17504, 34.89847], [veg_0, 32.17819, 34.89963], [veg_1, 32.17638, 34.90237], [veg_2, 32.17405, 34.8994], [beer_0, 32.17777, 34.90718], [beer_1, 32.1771, 34.89972]]\n",
      "{0: [0, 1, 2], 1: [3, 4, 5], 2: [6, 7]}\n"
     ]
    },
    {
     "data": {
      "text/plain": [
       "array([[  0, 345, 850, 650, 457, 833, 101, 659],\n",
       "       [345,   0, 812, 766, 456, 739, 260, 718],\n",
       "       [850, 812,   0, 366, 396, 140, 874, 257],\n",
       "       [650, 766, 366,   0, 327, 460, 712, 121],\n",
       "       [457, 456, 396, 327,   0, 381, 478, 261],\n",
       "       [833, 739, 140, 460, 381,   0, 840, 340],\n",
       "       [101, 260, 874, 712, 478, 840,   0, 706],\n",
       "       [659, 718, 257, 121, 261, 340, 706,   0]])"
      ]
     },
     "execution_count": 6,
     "metadata": {},
     "output_type": "execute_result"
    }
   ],
   "source": [
    "all_geo_points, set_to_points_dict, distances_array = get_distances_array_and_set_to_points_dict(all_sets)\n",
    "\n",
    "print(all_geo_points)\n",
    "print(set_to_points_dict)\n",
    "distances_array"
   ]
  },
  {
   "cell_type": "markdown",
   "metadata": {},
   "source": [
    "# Part II - Solving Using Dynammic Programming"
   ]
  },
  {
   "cell_type": "code",
   "execution_count": 7,
   "metadata": {
    "collapsed": true
   },
   "outputs": [],
   "source": [
    "def DP_Set_TSP(set_to_points_dict, distances_array):\n",
    "    all_sets = set(set_to_points_dict.keys())\n",
    "    n_sets = len(all_sets)\n",
    "\n",
    "    # memo keys: tuple(sorted_sets_in_path, last_set_in_path, last_point_in_path)\n",
    "    # memo values: tuple(cost_thus_far, next_to_last_set_in_path, next_to_last_point_in_path)\n",
    "    memo = {(tuple([set_idx]), set_idx, p_idx): tuple([0, None, None])\n",
    "            for set_idx, points_idxs in set_to_points_dict.items()\n",
    "            for p_idx in points_idxs}\n",
    "    queue = [(tuple([set_idx]), set_idx, p_idx)\n",
    "             for set_idx, points_idxs in set_to_points_dict.items()\n",
    "             for p_idx in points_idxs]\n",
    "\n",
    "    while queue:\n",
    "        prev_visited_sets, prev_last_set, prev_last_point = queue.pop(0)\n",
    "        prev_dist, _, _ = memo[(prev_visited_sets, prev_last_set, prev_last_point)]\n",
    "\n",
    "        to_visit = all_sets.difference(set(prev_visited_sets))\n",
    "        for new_last_set in to_visit:\n",
    "            new_visited_sets = tuple(sorted(list(prev_visited_sets) + [new_last_set]))\n",
    "            for new_last_point in set_to_points_dict[new_last_set]:\n",
    "                new_dist = prev_dist + distances_array[prev_last_point][new_last_point]\n",
    "\n",
    "                new_key = (new_visited_sets, new_last_set, new_last_point)\n",
    "                new_value = (new_dist, prev_last_set, prev_last_point)\n",
    "\n",
    "                if new_key not in memo:\n",
    "                    memo[new_key] = new_value\n",
    "                    queue += [new_key]\n",
    "                else:\n",
    "                    if new_dist < memo[new_key][0]:\n",
    "                        memo[new_key] = new_value\n",
    "\n",
    "    optimal_path_in_points_idxs, optimal_path_in_sets_idxs, optimal_cost = retrace_optimal_path(memo, n_sets)\n",
    "\n",
    "    return optimal_path_in_points_idxs, optimal_path_in_sets_idxs, optimal_cost"
   ]
  },
  {
   "cell_type": "code",
   "execution_count": 8,
   "metadata": {
    "collapsed": true
   },
   "outputs": [],
   "source": [
    "def retrace_optimal_path(memo: dict, n_sets: int) -> [[int], [int], float]:\n",
    "    sets_to_retrace = tuple(range(n_sets))\n",
    "\n",
    "    full_path_memo = dict((k, v) for k, v in memo.items() if k[0] == sets_to_retrace)\n",
    "    path_key = min(full_path_memo.keys(), key=lambda x: full_path_memo[x][0])\n",
    "\n",
    "    _, last_set, last_point = path_key\n",
    "    optimal_cost, next_to_last_set, next_to_last_point = memo[path_key]\n",
    "\n",
    "    optimal_path_in_points_idxs = [last_point]\n",
    "    optimal_path_in_sets_idxs = [last_set]\n",
    "    sets_to_retrace = tuple(sorted(set(sets_to_retrace).difference({last_set})))\n",
    "\n",
    "    while next_to_last_set is not None:\n",
    "        last_point = next_to_last_point\n",
    "        last_set = next_to_last_set\n",
    "        path_key = (sets_to_retrace, last_set, last_point)\n",
    "        _, next_to_last_set, next_to_last_point = memo[path_key]\n",
    "\n",
    "        optimal_path_in_points_idxs = [last_point] + optimal_path_in_points_idxs\n",
    "        optimal_path_in_sets_idxs = [last_set] + optimal_path_in_sets_idxs\n",
    "        sets_to_retrace = tuple(sorted(set(sets_to_retrace).difference({last_set})))\n",
    "\n",
    "    return optimal_path_in_points_idxs, optimal_path_in_sets_idxs, optimal_cost"
   ]
  },
  {
   "cell_type": "code",
   "execution_count": 9,
   "metadata": {
    "collapsed": true
   },
   "outputs": [],
   "source": [
    "def get_features_for_all_points(all_sets):\n",
    "    points = []\n",
    "    for set_ in all_sets:\n",
    "        color = \"#\" + ''.join(random.choices('0123456789abcdef', k=6))\n",
    "        points += [\n",
    "            Feature(geometry=Point(tuple([g.lng, g.lat])),\n",
    "                    properties={\"name\": g.name_,\n",
    "                                \"marker-symbol\": int(g.name_[-1]),\n",
    "                                \"marker-color\": color})\n",
    "            for g in set_]\n",
    "    return points"
   ]
  },
  {
   "cell_type": "code",
   "execution_count": 10,
   "metadata": {
    "collapsed": false
   },
   "outputs": [],
   "source": [
    "def plot_route_on_map(all_sets, optimal_path_in_points_idxs):\n",
    "    points = get_features_for_all_points(all_sets)\n",
    "    \n",
    "    all_geo_points = get_all_geopoints_from_all_sets(all_sets)\n",
    "    lng_lat_list = [tuple([all_geo_points[i].lng, all_geo_points[i].lat])\n",
    "                    for i in optimal_path_in_points_idxs]\n",
    "    route = Feature(geometry=LineString(lng_lat_list),\n",
    "                    properties={\"name\": \"This is our route\",\n",
    "                                \"stroke\": \"black\"})\n",
    "    \n",
    "    feature_collection = FeatureCollection(features=points+[route])\n",
    "    geojsonio.display(json.dumps(feature_collection));"
   ]
  },
  {
   "cell_type": "code",
   "execution_count": 11,
   "metadata": {
    "collapsed": false
   },
   "outputs": [
    {
     "name": "stdout",
     "output_type": "stream",
     "text": [
      "[2, 7, 3] [0, 2, 1] 378\n"
     ]
    }
   ],
   "source": [
    "optimal_path_in_points, optimal_path_in_sets, optimal_cost = DP_Set_TSP(set_to_points_dict, distances_array)\n",
    "print(optimal_path_in_points, optimal_path_in_sets, optimal_cost)"
   ]
  },
  {
   "cell_type": "code",
   "execution_count": 12,
   "metadata": {
    "collapsed": false
   },
   "outputs": [],
   "source": [
    "# Opens a new tab in the browser :)\n",
    "plot_route_on_map(all_sets, optimal_path_in_points)"
   ]
  },
  {
   "cell_type": "markdown",
   "metadata": {},
   "source": [
    "# Part III - Larger Random Experiments"
   ]
  },
  {
   "cell_type": "code",
   "execution_count": 13,
   "metadata": {
    "collapsed": true
   },
   "outputs": [],
   "source": [
    "def get_random_geo_point(center_lat=32.1, center_lng=34.8, radius=0.1, name_=None):\n",
    "    geo_point =  GeoPoint(lat = center_lat + (radius * random.random()), \n",
    "                          lng = center_lng + (radius * random.random()),\n",
    "                          name_ = name_)\n",
    "    return geo_point"
   ]
  },
  {
   "cell_type": "code",
   "execution_count": 14,
   "metadata": {
    "collapsed": true
   },
   "outputs": [],
   "source": [
    "def generate_random_input_in_geo_points(n_sets: int, poisson_lambda: int = 2) -> [{int: int}, {int: int}, np.array]:\n",
    "    set_to_points_dict = {}\n",
    "    first_point_idx = 0\n",
    "    for set_idx in range(n_sets):\n",
    "        n_points_in_set = 1 + np.random.poisson(poisson_lambda)\n",
    "        set_to_points_dict[set_idx] = list(range(first_point_idx, first_point_idx + n_points_in_set))\n",
    "        first_point_idx += n_points_in_set\n",
    "\n",
    "    n_points = first_point_idx\n",
    "    all_sets = []\n",
    "    for idx_set in range(n_sets):\n",
    "        all_sets += [[get_random_geo_point(name_=f's{idx_set}_i{idx_point}') \n",
    "                      for idx_point in range(len(set_to_points_dict[idx_set]))]]\n",
    "    \n",
    "    all_geo_points = get_all_geopoints_from_all_sets(all_sets)\n",
    "    distances_array = np.array([[all_geo_points[i].get_dist_from(all_geo_points[j])\n",
    "                                 for i in range(n_points)]\n",
    "                                for j in range(n_points)])\n",
    "\n",
    "    return all_sets, all_geo_points, set_to_points_dict, distances_array"
   ]
  },
  {
   "cell_type": "code",
   "execution_count": 15,
   "metadata": {
    "collapsed": false
   },
   "outputs": [
    {
     "name": "stdout",
     "output_type": "stream",
     "text": [
      "[3, 39, 21, 23, 6, 1, 18, 42, 28, 15] [1, 8, 5, 6, 2, 0, 4, 9, 7, 3] 10311\n"
     ]
    }
   ],
   "source": [
    "n_sets = 10\n",
    "poisson_lambda = 4\n",
    "all_sets, all_geo_points, set_to_points_dict, distances_array = generate_random_input_in_geo_points(n_sets, poisson_lambda)\n",
    "optimal_path_in_points, optimal_path_in_sets, optimal_cost = DP_Set_TSP(set_to_points_dict, distances_array)\n",
    "print(optimal_path_in_points, optimal_path_in_sets, optimal_cost)\n",
    "\n",
    "# Opens a new tab in the browser :)\n",
    "plot_route_on_map(all_sets, optimal_path_in_points)"
   ]
  },
  {
   "cell_type": "markdown",
   "metadata": {},
   "source": [
    "# Extra - Working with non-geo random input"
   ]
  },
  {
   "cell_type": "code",
   "execution_count": 16,
   "metadata": {
    "collapsed": true
   },
   "outputs": [],
   "source": [
    "def generate_random_input(n_sets: int, poisson_lambda: int = 2) -> [{int: int}, {int: int}, np.array]:\n",
    "    set_to_points_dict = {}\n",
    "    first_point_idx = 0\n",
    "    for set_idx in range(n_sets):\n",
    "        n_points_in_set = 1 + np.random.poisson(poisson_lambda)\n",
    "        set_to_points_dict[set_idx] = list(range(first_point_idx, first_point_idx + n_points_in_set))\n",
    "        first_point_idx += n_points_in_set\n",
    "\n",
    "    n_points = first_point_idx\n",
    "    X = np.random.rand(n_points, 3)\n",
    "    distances_array = np.array([[np.linalg.norm(X[i] - X[j])\n",
    "                                 for i in range(n_points)]\n",
    "                                for j in range(n_points)])\n",
    "\n",
    "    return X, set_to_points_dict, distances_array"
   ]
  },
  {
   "cell_type": "code",
   "execution_count": 17,
   "metadata": {
    "collapsed": true
   },
   "outputs": [],
   "source": [
    "def scatter_plot(X: np.array, clusters_in_idxs: [[int]]):\n",
    "    x, y = list(zip(*[[X[c_idx][0], X[c_idx][1]]\n",
    "                      for one_cluster_in_idxs in clusters_in_idxs\n",
    "                      for c_idx in one_cluster_in_idxs]))\n",
    "    c = [color_idx\n",
    "         for color_idx, one_cluster_in_idxs in enumerate(clusters_in_idxs)\n",
    "         for _ in one_cluster_in_idxs]\n",
    "    df = pd.DataFrame({'x': x, 'y': y, 'c': c})\n",
    "\n",
    "    for color_idx, cluster_in_idxs in enumerate(clusters_in_idxs):\n",
    "        df_temp = df[df['c'].isin([color_idx])]\n",
    "        plt.plot(df_temp['x'].tolist(), df_temp['y'].tolist(), 'o', label=color_idx, markersize=8);\n",
    "\n",
    "    plt.legend(loc='upper left', bbox_to_anchor=(1, 1))"
   ]
  },
  {
   "cell_type": "code",
   "execution_count": 18,
   "metadata": {
    "collapsed": true
   },
   "outputs": [],
   "source": [
    "def plot_route(X, optimal_path_in_points_idxs, set_to_points_dict):\n",
    "    scatter_plot(X, list(set_to_points_dict.values()))\n",
    "    for p1, p2 in zip(optimal_path_in_points_idxs[:-1], optimal_path_in_points_idxs[1:]):\n",
    "        plt.plot([X[p1, 0], X[p2, 0]], [X[p1, 1], X[p2, 1]], color='grey');"
   ]
  },
  {
   "cell_type": "code",
   "execution_count": 19,
   "metadata": {
    "collapsed": false
   },
   "outputs": [
    {
     "data": {
      "image/png": "[encoded data removed]",
      "text/plain": [
       "<Figure size 432x288 with 1 Axes>"
      ]
     },
     "metadata": {
      "needs_background": "light"
     },
     "output_type": "display_data"
    }
   ],
   "source": [
    "n_sets = 5\n",
    "poisson_lambda = 3\n",
    "X, set_to_points_dict, distances_array = generate_random_input(n_sets, poisson_lambda)\n",
    "\n",
    "optimal_path_in_points_idxs, optimal_path_in_sets_idxs, optimal_cost = DP_Set_TSP(set_to_points_dict, distances_array)\n",
    "plot_route(X, optimal_path_in_points_idxs, set_to_points_dict)"
   ]
  },
  {
   "cell_type": "code",
   "execution_count": null,
   "metadata": {
    "collapsed": true
   },
   "outputs": [],
   "source": []
  },
  {
   "cell_type": "code",
   "execution_count": null,
   "metadata": {
    "collapsed": true
   },
   "outputs": [],
   "source": []
  },
  {
   "cell_type": "code",
   "execution_count": null,
   "metadata": {
    "collapsed": true
   },
   "outputs": [],
   "source": []
  },
  {
   "cell_type": "code",
   "execution_count": null,
   "metadata": {
    "collapsed": true
   },
   "outputs": [],
   "source": []
  }
 ],
 "metadata": {
  "anaconda-cloud": {},
  "kernelspec": {
   "display_name": "quay_rnd",
   "language": "python",
   "name": "quay_rnd"
  },
  "language_info": {
   "codemirror_mode": {
    "name": "ipython",
    "version": 3
   },
   "file_extension": ".py",
   "mimetype": "text/x-python",
   "name": "python",
   "nbconvert_exporter": "python",
   "pygments_lexer": "ipython3",
   "version": "3.7.3"
  }
 },
 "nbformat": 4,
 "nbformat_minor": 1
}
