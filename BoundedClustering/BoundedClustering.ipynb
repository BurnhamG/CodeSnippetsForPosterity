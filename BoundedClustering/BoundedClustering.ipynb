{
 "cells": [
  {
   "cell_type": "markdown",
   "metadata": {},
   "source": [
    "# Bounded Clustering - A Clustering Algorithm for Bounded Sized Clusters\n",
    "\n",
    "## This notebook was created to serve a [blog post]() by the same name."
   ]
  },
  {
   "cell_type": "code",
   "execution_count": 1,
   "metadata": {
    "collapsed": true
   },
   "outputs": [],
   "source": [
    "# written in python 3.7.3\n",
    "import time\n",
    "import numpy as np\n",
    "import pandas as pd\n",
    "import matplotlib.pyplot as plt\n",
    "%matplotlib inline\n",
    "\n",
    "from sklearn.datasets import make_blobs\n",
    "\n",
    "import random\n",
    "random_seed = 42\n",
    "random.seed(random_seed)"
   ]
  },
  {
   "cell_type": "markdown",
   "metadata": {},
   "source": [
    "## Step I - Bounded K-Means Clustering"
   ]
  },
  {
   "cell_type": "code",
   "execution_count": 2,
   "metadata": {
    "collapsed": true
   },
   "outputs": [],
   "source": [
    "class ClustersUtils:\n",
    "    \n",
    "    @classmethod\n",
    "    def compute_dist_array(cls, X: np.array) -> np.array:\n",
    "        dist_array = np.array([[np.linalg.norm(x1 - x2)\n",
    "                                for x1 in X]\n",
    "                               for x2 in X])\n",
    "        return dist_array\n",
    "    \n",
    "    @classmethod\n",
    "    def scatter_plot(cls, X: np.array, clusters_in_idxs: [[int]], centroid_idxs: [int] = None):\n",
    "        \"\"\"Only plots first two dimensions\"\"\"\n",
    "        x, y = list(zip(*[[X[c_idx][0], X[c_idx][1]]\n",
    "                          for one_cluster_in_idxs in clusters_in_idxs\n",
    "                          for c_idx in one_cluster_in_idxs]))\n",
    "        c = [color_idx\n",
    "             for color_idx, one_cluster_in_idxs in enumerate(clusters_in_idxs)\n",
    "             for _ in one_cluster_in_idxs]\n",
    "        df = pd.DataFrame({'x': x, 'y': y, 'c': c})\n",
    "\n",
    "        fig, ax = plt.subplots()\n",
    "        for color_idx, cluster_in_idxs in enumerate(clusters_in_idxs):\n",
    "            df_temp = df[df['c'].isin([color_idx])]\n",
    "            plt.plot(df_temp['x'].tolist(), df_temp['y'].tolist(), 'o', label=color_idx, markersize=5)\n",
    "\n",
    "        if centroid_idxs is not None:\n",
    "            x_c, y_c = list(zip(*[[X[c_idx][0], X[c_idx][1]]\n",
    "                                  for c_idx in centroid_idxs]))\n",
    "            plt.plot(x_c, y_c, 'o', color='black', markersize=3)\n",
    "\n",
    "        ax.legend(loc='upper left', bbox_to_anchor=(1, 1))\n",
    "        plt.show()"
   ]
  },
  {
   "cell_type": "code",
   "execution_count": 3,
   "metadata": {
    "collapsed": false
   },
   "outputs": [],
   "source": [
    "class BoundedKMeansClustering:\n",
    "    def __init__(self, n_clusters: int, max_cluster_size: int, n_iter: int = 10, n_init=10, plot_every_iteration=False):\n",
    "        self.n_clusters = n_clusters\n",
    "        self.max_cluster_size = max_cluster_size\n",
    "        self.n_iter = n_iter\n",
    "        self.n_init = n_init\n",
    "        self.plot_every_iteration = plot_every_iteration\n",
    "\n",
    "        self.n_points = None\n",
    "\n",
    "    def fit(self, X: np.array, weights: np.array, dist_array: np.array = None) -> [float, [[int]]]:\n",
    "        self.n_points = X.shape[0]\n",
    "        dist_array = dist_array if dist_array is not None else ClustersUtils.compute_dist_array(X)\n",
    "\n",
    "        costs, clusters = zip(*[self.fit_one_iteration(X, weights, dist_array) for _ in range(self.n_init)])\n",
    "\n",
    "        if all(np.isnan(np.array(costs))):\n",
    "            return np.nan, np.nan\n",
    "        \n",
    "        best_idx = np.nanargmin(costs)\n",
    "        best_cost = costs[best_idx]\n",
    "        best_clusters = clusters[best_idx]\n",
    "\n",
    "        self.n_points = None\n",
    "        return best_cost, best_clusters\n",
    "\n",
    "    def fit_one_iteration(self, X: np.array, weights: np.array, dist_array: np.array) -> [float, [[int]]]:\n",
    "        # inspired by https://core.ac.uk/download/pdf/61217069.pdf\n",
    "\n",
    "        try:\n",
    "            clusters_in_idxs = self._initialize_clusters(weights, dist_array)\n",
    "            best_clusters = clusters_in_idxs\n",
    "            best_cost = self._get_maximal_mean_dist_in_clusters(dist_array, clusters_in_idxs)\n",
    "\n",
    "            for i in range(self.n_iter):\n",
    "                clusters_in_idxs, maximal_mean_dist_in_clusters = self._optimize_clusters(X, weights, dist_array,\n",
    "                                                                                          clusters_in_idxs)\n",
    "                if clusters_in_idxs == best_clusters:\n",
    "                    print(f\"Reached a local optimum after {i} iterations.\")\n",
    "                    break\n",
    "                \n",
    "                if maximal_mean_dist_in_clusters < best_cost:\n",
    "                    best_cost = maximal_mean_dist_in_clusters\n",
    "                    best_clusters = clusters_in_idxs\n",
    "                    \n",
    "            if self.plot_every_iteration:\n",
    "                self.scatter_plot(X, best_clusters)\n",
    "\n",
    "        except ValueError:\n",
    "            best_cost, best_clusters = np.nan, np.nan\n",
    "\n",
    "        return best_cost, best_clusters\n",
    "\n",
    "    def _initialize_clusters(self, weights: np.array, dist_array: np.array) -> [[int]]:\n",
    "        centroid_idxs = random.sample(range(self.n_points), self.n_clusters)\n",
    "        clusters_in_idxs = self._assign_points_to_clusters(weights, dist_array, centroid_idxs)\n",
    "        return clusters_in_idxs\n",
    "\n",
    "    def _assign_points_to_clusters(self, weights: np.array, dist_array: np.array, centroid_idxs: [int]) -> [[int]]:\n",
    "        clusters_in_idxs = [[c_idx] for c_idx in centroid_idxs]\n",
    "        cluster_weights = np.array([weights[c_idx] for c_idx in centroid_idxs])\n",
    "\n",
    "        sorted_points_idxs_by_weights = [i for i in np.argsort(-weights,  axis=0) if i not in centroid_idxs]\n",
    "        for p_idx in sorted_points_idxs_by_weights:\n",
    "            is_assigned = False\n",
    "            sorted_cluster_idxs_by_dist = np.argsort(dist_array[p_idx][centroid_idxs])\n",
    "            for c_idx in sorted_cluster_idxs_by_dist:\n",
    "                if cluster_weights[c_idx] + weights[p_idx] <= self.max_cluster_size:\n",
    "                    clusters_in_idxs[c_idx].append(p_idx)\n",
    "                    cluster_weights[c_idx] += weights[p_idx]\n",
    "                    is_assigned = True\n",
    "                    break\n",
    "            if not is_assigned:\n",
    "                raise ValueError(\n",
    "                    f\"Point {p_idx} could not be assigned. Try with more than {self.n_clusters} clusters. \"\n",
    "                    f\"Current_clusters in idxs: {clusters_in_idxs}\")\n",
    "\n",
    "        return clusters_in_idxs\n",
    "\n",
    "    def _get_maximal_mean_dist_in_clusters(self, dist_array: np.array, clusters_in_idxs: [[int]]):\n",
    "        mean_dist_in_all_clusters = [self._get_mean_dist_in_cluster(dist_array, one_cluster_in_idxs)\n",
    "                                     for one_cluster_in_idxs in clusters_in_idxs]\n",
    "        maximal_mean_dist_in_clusters = max(mean_dist_in_all_clusters)\n",
    "        return maximal_mean_dist_in_clusters\n",
    "\n",
    "    def _get_mean_dist_in_cluster(self, dist_array: np.array, cluster_in_idxs: [[int]]) -> float:\n",
    "        cluster_sub_dist_array = dist_array[cluster_in_idxs, :][:, cluster_in_idxs]\n",
    "        cluster_sub_dist_array_triu = np.triu(cluster_sub_dist_array)\n",
    "        cluster_sub_dist_array_triu[cluster_sub_dist_array_triu == 0] = np.nan\n",
    "        mean_dist_in_cluster = np.nanmean(cluster_sub_dist_array)\n",
    "        return mean_dist_in_cluster\n",
    "\n",
    "    def _optimize_clusters(self, X: np.array, weights: np.array, dist_array: np.array, clusters_in_idxs: [[int]]):\n",
    "        centroid_idxs = self._update_centroids(X, clusters_in_idxs)\n",
    "        clusters_in_idxs = self._assign_points_to_clusters(weights, dist_array, centroid_idxs)\n",
    "        maximal_mean_dist_in_clusters = self._get_maximal_mean_dist_in_clusters(dist_array, clusters_in_idxs)        \n",
    "        return clusters_in_idxs, maximal_mean_dist_in_clusters\n",
    "\n",
    "    def _update_centroids(self, X: np.array, clusters_in_idxs: [[int]]) -> [int]:\n",
    "        updated_centroid_idxs = [self._update_centroid_for_one_cluster(X, one_cluster_in_idxs)\n",
    "                                 for one_cluster_in_idxs in clusters_in_idxs]\n",
    "        return updated_centroid_idxs\n",
    "\n",
    "    def _update_centroid_for_one_cluster(self, X: np.array, cluster_in_idxs: [int]) -> int:\n",
    "        center = np.mean(X[cluster_in_idxs], axis=0)\n",
    "        closest_point_idx_in_cluster = np.argmin(np.linalg.norm(X[cluster_in_idxs] - center, axis=1))\n",
    "        closest_point_idx = cluster_in_idxs[closest_point_idx_in_cluster]\n",
    "        return closest_point_idx"
   ]
  },
  {
   "cell_type": "markdown",
   "metadata": {},
   "source": [
    "### Small test"
   ]
  },
  {
   "cell_type": "code",
   "execution_count": 4,
   "metadata": {
    "collapsed": false
   },
   "outputs": [
    {
     "name": "stdout",
     "output_type": "stream",
     "text": [
      "Reached a local optimum after 4 iterations.\n",
      "Best partition to 3 clusters computed in 5.87 seconds.\n",
      "Total weight = 513.3768828924026\n",
      "Max_cluster_size = 174.0\n",
      "Clusters weights: {0: 170.57814308397715, 1: 173.4152763711959, 2: 169.3834634372293}\n"
     ]
    },
    {
     "data": {
      "image/png": "[encoded data removed]",
      "text/plain": [
       "<Figure size 432x288 with 1 Axes>"
      ]
     },
     "metadata": {
      "needs_background": "light"
     },
     "output_type": "display_data"
    }
   ],
   "source": [
    "n_points = 1000\n",
    "n_clusters = 3\n",
    "n_iter = 10\n",
    "n_init = 10\n",
    "\n",
    "centers = [[-5, 0], [0, 1.5], [5, -1]]\n",
    "X, y = make_blobs(n_samples=n_points, centers=centers, random_state=40)\n",
    "transformation = [[0.4, 0.2], [-0.4, 1.2]]\n",
    "X = np.dot(X, transformation)\n",
    "\n",
    "weights = np.random.rand(n_points)\n",
    "max_cluster_size = (sum(weights) // n_clusters) + n_clusters\n",
    "\n",
    "t = time.time()\n",
    "cluster_maker = BoundedKMeansClustering(n_clusters, max_cluster_size, n_iter, n_init)\n",
    "best_cost, best_clusters = cluster_maker.fit(X, weights)\n",
    "print(f\"Best partition to {n_clusters} clusters computed in {round(time.time() - t, 2)} seconds.\")\n",
    "print(f\"Total weight = {sum(weights)}\")\n",
    "print(f\"Max_cluster_size = {max_cluster_size}\")\n",
    "print(f\"Clusters weights: {dict((i, sum(weights[c])) for i, c in enumerate(best_clusters))}\")\n",
    "ClustersUtils.scatter_plot(X, best_clusters)"
   ]
  },
  {
   "cell_type": "markdown",
   "metadata": {
    "collapsed": true
   },
   "source": [
    "## Step II - The Elbow Method"
   ]
  },
  {
   "cell_type": "code",
   "execution_count": 5,
   "metadata": {
    "collapsed": true
   },
   "outputs": [],
   "source": [
    "class BoundedClustering:\n",
    "    def __init__(self, max_cluster_size: int, n_iter: int = 10, n_init: int = 10, n_k_to_try: int = 10, \n",
    "                 plot_every_iteration=False):\n",
    "        self.max_cluster_size = max_cluster_size\n",
    "        self.n_iter = n_iter\n",
    "        self.n_init = n_init\n",
    "        self.n_k_to_try = n_k_to_try\n",
    "        self.plot_every_iteration = plot_every_iteration\n",
    "\n",
    "    def fit(self, X: np.array, weights: np.array) -> [float, [[int]]]:\n",
    "        min_n_clusters = int(np.ceil(sum(weights) / self.max_cluster_size))\n",
    "        max_n_clusters = min([min_n_clusters + self.n_k_to_try, len(weights)])\n",
    "        all_k = list(range(min_n_clusters, max_n_clusters + 1))\n",
    "\n",
    "        dist_array = ClustersUtils.compute_dist_array(X)\n",
    "        costs, clusters = zip(*[self._fit_k(k, X, weights, dist_array) for k in all_k])\n",
    "\n",
    "        if np.isnan(np.array(costs)).all():\n",
    "            raise NotEnoughClustersException(f\"Could not produce any clustering with range {all_k}.\")\n",
    "\n",
    "        valid_k_indices, all_points = zip(*[[i, np.array([k, cost])]\n",
    "                                            for i, (k, cost) in enumerate(zip(all_k, costs))\n",
    "                                            if not np.isnan(cost)])\n",
    "        if len(valid_k_indices) <= 2:\n",
    "            i = valid_k_indices[0]\n",
    "            return all_k[i], clusters[i]\n",
    "\n",
    "        p_left, p_right = all_points[0], all_points[-1]\n",
    "        all_distances_from_line = [self._dist_from_line(p_left, p_right, p) for p in all_points]\n",
    "        best_index_of_k = valid_k_indices[int(np.argmax(all_distances_from_line))]\n",
    "        best_n_clusters, best_clusters = all_k[best_index_of_k], clusters[best_index_of_k]\n",
    "        return best_n_clusters, best_clusters\n",
    "    \n",
    "    def _fit_k(self, k: int, X: np.array, weights: np.array, dist_array: np.array = None) -> [float, [[int]]]:\n",
    "        cluster_maker = BoundedKMeansClustering(k, self.max_cluster_size, self.n_iter, self.n_init)\n",
    "        best_cost, best_clusters = cluster_maker.fit(X, weights, dist_array)\n",
    "        return best_cost, best_clusters\n",
    "    \n",
    "    def _dist_from_line(self, p_left, p_right, p):\n",
    "        # minus sign because we expect the point to be below the line\n",
    "        d = -np.cross(p_right - p_left, p - p_left) / np.linalg.norm(p_right - p_left)\n",
    "        return d\n",
    "    \n",
    "#     def _plot_elbow(self, )"
   ]
  },
  {
   "cell_type": "markdown",
   "metadata": {
    "collapsed": true
   },
   "source": [
    "### Small test"
   ]
  },
  {
   "cell_type": "code",
   "execution_count": 6,
   "metadata": {
    "collapsed": false
   },
   "outputs": [
    {
     "name": "stdout",
     "output_type": "stream",
     "text": [
      "Reached a local optimum after 8 iterations.\n",
      "Reached a local optimum after 9 iterations.\n",
      "Reached a local optimum after 8 iterations.\n",
      "Reached a local optimum after 7 iterations.\n",
      "Reached a local optimum after 8 iterations.\n",
      "Reached a local optimum after 4 iterations.\n",
      "Reached a local optimum after 2 iterations.\n",
      "Reached a local optimum after 2 iterations.\n",
      "Reached a local optimum after 3 iterations.\n",
      "Reached a local optimum after 6 iterations.\n",
      "Reached a local optimum after 6 iterations.\n",
      "Reached a local optimum after 6 iterations.\n",
      "Reached a local optimum after 9 iterations.\n",
      "Reached a local optimum after 8 iterations.\n",
      "Reached a local optimum after 8 iterations.\n",
      "Reached a local optimum after 5 iterations.\n",
      "Reached a local optimum after 8 iterations.\n",
      "Reached a local optimum after 8 iterations.\n",
      "Reached a local optimum after 7 iterations.\n",
      "Best partition was found for 6 clusters, computed in 18.36 seconds.\n",
      "Total weight = 493.6733899072999\n",
      "Max_cluster_size = 167.0\n",
      "Clusters weights: {0: 78.22114484482415, 1: 73.50084458997664, 2: 98.09350403202629, 3: 78.04865889666173, 4: 88.80842748045774, 5: 77.00081006335391}\n"
     ]
    },
    {
     "data": {
      "image/png": "[encoded data removed]",
      "text/plain": [
       "<Figure size 432x288 with 1 Axes>"
      ]
     },
     "metadata": {
      "needs_background": "light"
     },
     "output_type": "display_data"
    }
   ],
   "source": [
    "n_points = 1000\n",
    "n_clusters = 3\n",
    "n_iter = 10\n",
    "n_init = 10\n",
    "\n",
    "centers = [[-5, 0], [0, 1.5], [5, -1]]\n",
    "X, y = make_blobs(n_samples=n_points, centers=centers, random_state=40)\n",
    "transformation = [[0.4, 0.2], [-0.4, 1.2]]\n",
    "X = np.dot(X, transformation)\n",
    "\n",
    "weights = np.random.rand(n_points)\n",
    "max_cluster_size = (sum(weights) // n_clusters) + n_clusters\n",
    "\n",
    "t = time.time()\n",
    "cluster_maker = BoundedClustering(max_cluster_size, n_iter, n_init)\n",
    "best_k, best_clusters = cluster_maker.fit(X, weights)\n",
    "print(f\"Best partition was found for {best_k} clusters, computed in {round(time.time() - t, 2)} seconds.\")\n",
    "print(f\"Total weight = {sum(weights)}\")\n",
    "print(f\"Max_cluster_size = {max_cluster_size}\")\n",
    "print(f\"Clusters weights: {dict((i, sum(weights[c])) for i, c in enumerate(best_clusters))}\")\n",
    "ClustersUtils.scatter_plot(X, best_clusters)"
   ]
  },
  {
   "cell_type": "code",
   "execution_count": 7,
   "metadata": {
    "collapsed": false
   },
   "outputs": [
    {
     "data": {
      "text/plain": [
       "1.5384990764524664"
      ]
     },
     "execution_count": 7,
     "metadata": {},
     "output_type": "execute_result"
    }
   ],
   "source": [
    "best_cost"
   ]
  },
  {
   "cell_type": "code",
   "execution_count": null,
   "metadata": {
    "collapsed": true
   },
   "outputs": [],
   "source": []
  },
  {
   "cell_type": "code",
   "execution_count": null,
   "metadata": {
    "collapsed": true
   },
   "outputs": [],
   "source": []
  },
  {
   "cell_type": "code",
   "execution_count": null,
   "metadata": {
    "collapsed": true
   },
   "outputs": [],
   "source": []
  },
  {
   "cell_type": "code",
   "execution_count": null,
   "metadata": {
    "collapsed": true
   },
   "outputs": [],
   "source": []
  },
  {
   "cell_type": "code",
   "execution_count": null,
   "metadata": {
    "collapsed": true
   },
   "outputs": [],
   "source": []
  }
 ],
 "metadata": {
  "anaconda-cloud": {},
  "kernelspec": {
   "display_name": "quay_rnd",
   "language": "python",
   "name": "quay_rnd"
  },
  "language_info": {
   "codemirror_mode": {
    "name": "ipython",
    "version": 3
   },
   "file_extension": ".py",
   "mimetype": "text/x-python",
   "name": "python",
   "nbconvert_exporter": "python",
   "pygments_lexer": "ipython3",
   "version": "3.7.3"
  }
 },
 "nbformat": 4,
 "nbformat_minor": 1
}
