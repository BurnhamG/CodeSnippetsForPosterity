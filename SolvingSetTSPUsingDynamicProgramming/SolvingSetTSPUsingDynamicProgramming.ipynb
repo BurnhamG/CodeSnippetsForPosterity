{
 "cells": [
  {
   "cell_type": "markdown",
   "metadata": {},
   "source": [
    "# Solving Set-TSP Using Dynamic Programming\n",
    "\n",
    "## This notebook was created to serve a blog post by the same name, which will one day be written..."
   ]
  },
  {
   "cell_type": "code",
   "execution_count": 1,
   "metadata": {
    "collapsed": true
   },
   "outputs": [],
   "source": [
    "import pandas as pd\n",
    "import numpy as np\n",
    "np.random.seed(42)\n",
    "\n",
    "import matplotlib.pyplot as plt\n",
    "%matplotlib inline"
   ]
  },
  {
   "cell_type": "code",
   "execution_count": 2,
   "metadata": {
    "collapsed": true
   },
   "outputs": [],
   "source": [
    "def DP_Set_TSP(set_to_points_dict, distances_array):\n",
    "    all_sets = set(set_to_points_dict.keys())\n",
    "    n_sets = len(all_sets)\n",
    "\n",
    "    # memo keys: tuple(sorted_sets_in_path, last_set_in_path, last_point_in_path)\n",
    "    # memo values: tuple(cost_thus_far, next_to_last_set_in_path, next_to_last_point_in_path)\n",
    "    memo = {(tuple([set_idx]), set_idx, p_idx): tuple([0, None, None])\n",
    "            for set_idx, points_idxs in set_to_points_dict.items()\n",
    "            for p_idx in points_idxs}\n",
    "    queue = [(tuple([set_idx]), set_idx, p_idx)\n",
    "             for set_idx, points_idxs in set_to_points_dict.items()\n",
    "             for p_idx in points_idxs]\n",
    "\n",
    "    while queue:\n",
    "        prev_visited_sets, prev_last_set, prev_last_point = queue.pop(0)\n",
    "        prev_dist, _, _ = memo[(prev_visited_sets, prev_last_set, prev_last_point)]\n",
    "\n",
    "        to_visit = all_sets.difference(set(prev_visited_sets))\n",
    "        for new_last_set in to_visit:\n",
    "            new_visited_sets = tuple(sorted(list(prev_visited_sets) + [new_last_set]))\n",
    "            for new_last_point in set_to_points_dict[new_last_set]:\n",
    "                new_dist = prev_dist + distances_array[prev_last_point][new_last_point]\n",
    "\n",
    "                new_key = (new_visited_sets, new_last_set, new_last_point)\n",
    "                new_value = (new_dist, prev_last_set, prev_last_point)\n",
    "\n",
    "                if new_key not in memo:\n",
    "                    memo[new_key] = new_value\n",
    "                    queue += [new_key]\n",
    "                else:\n",
    "                    if new_dist < memo[new_key][0]:\n",
    "                        memo[new_key] = new_value\n",
    "\n",
    "    optimal_path_in_points_idxs, optimal_path_in_sets_idxs, optimal_cost = retrace_optimal_path(memo, n_sets)\n",
    "\n",
    "    return optimal_path_in_points_idxs, optimal_path_in_sets_idxs, optimal_cost"
   ]
  },
  {
   "cell_type": "code",
   "execution_count": 3,
   "metadata": {
    "collapsed": true
   },
   "outputs": [],
   "source": [
    "def retrace_optimal_path(memo: dict, n_sets: int) -> [[int], [int], float]:\n",
    "    sets_to_retrace = tuple(range(n_sets))\n",
    "\n",
    "    full_path_memo = dict((k, v) for k, v in memo.items() if k[0] == sets_to_retrace)\n",
    "    path_key = min(full_path_memo.keys(), key=lambda x: full_path_memo[x][0])\n",
    "\n",
    "    _, last_set, last_point = path_key\n",
    "    optimal_cost, next_to_last_set, next_to_last_point = memo[path_key]\n",
    "\n",
    "    optimal_path_in_points_idxs = [last_point]\n",
    "    optimal_path_in_sets_idxs = [last_set]\n",
    "    sets_to_retrace = tuple(sorted(set(sets_to_retrace).difference({last_set})))\n",
    "\n",
    "    while next_to_last_set is not None:\n",
    "        last_point = next_to_last_point\n",
    "        last_set = next_to_last_set\n",
    "        path_key = (sets_to_retrace, last_set, last_point)\n",
    "        _, next_to_last_set, next_to_last_point = memo[path_key]\n",
    "\n",
    "        optimal_path_in_points_idxs = [last_point] + optimal_path_in_points_idxs\n",
    "        optimal_path_in_sets_idxs = [last_set] + optimal_path_in_sets_idxs\n",
    "        sets_to_retrace = tuple(sorted(set(sets_to_retrace).difference({last_set})))\n",
    "\n",
    "    return optimal_path_in_points_idxs, optimal_path_in_sets_idxs, optimal_cost"
   ]
  },
  {
   "cell_type": "code",
   "execution_count": 4,
   "metadata": {
    "collapsed": true
   },
   "outputs": [],
   "source": [
    "def generate_random_input(n_sets: int) -> [{int: int}, {int: int}, np.array]:\n",
    "    set_to_points_dict = {}\n",
    "    first_point_idx = 0\n",
    "    for set_idx in range(n_sets):\n",
    "        n_points_in_set = 1 + np.random.poisson(2)\n",
    "        set_to_points_dict[set_idx] = list(range(first_point_idx, first_point_idx + n_points_in_set))\n",
    "        first_point_idx += n_points_in_set\n",
    "\n",
    "    n_points = first_point_idx\n",
    "    X = np.random.rand(n_points, 3)\n",
    "    distances_array = np.array([[np.linalg.norm(X[i] - X[j])\n",
    "                                 for i in range(n_points)]\n",
    "                                for j in range(n_points)])\n",
    "\n",
    "    return X, set_to_points_dict, distances_array"
   ]
  },
  {
   "cell_type": "code",
   "execution_count": 5,
   "metadata": {
    "collapsed": true
   },
   "outputs": [],
   "source": [
    "def scatter_plot(X: np.array, clusters_in_idxs: [[int]]):\n",
    "    x, y = list(zip(*[[X[c_idx][0], X[c_idx][1]]\n",
    "                      for one_cluster_in_idxs in clusters_in_idxs\n",
    "                      for c_idx in one_cluster_in_idxs]))\n",
    "    c = [color_idx\n",
    "         for color_idx, one_cluster_in_idxs in enumerate(clusters_in_idxs)\n",
    "         for _ in one_cluster_in_idxs]\n",
    "    df = pd.DataFrame({'x': x, 'y': y, 'c': c})\n",
    "\n",
    "    for color_idx, cluster_in_idxs in enumerate(clusters_in_idxs):\n",
    "        df_temp = df[df['c'].isin([color_idx])]\n",
    "        plt.plot(df_temp['x'].tolist(), df_temp['y'].tolist(), 'o', label=color_idx, markersize=5);\n",
    "\n",
    "    plt.legend(loc='upper left', bbox_to_anchor=(1, 1))\n"
   ]
  },
  {
   "cell_type": "code",
   "execution_count": 6,
   "metadata": {
    "collapsed": true
   },
   "outputs": [],
   "source": [
    "def plot_route(X, optimal_path_in_points_idxs, set_to_points_dict):\n",
    "    scatter_plot(X, list(set_to_points_dict.values()))\n",
    "    for p1, p2 in zip(optimal_path_in_points_idxs[:-1], optimal_path_in_points_idxs[1:]):\n",
    "        plt.plot([X[p1, 0], X[p2, 0]], [X[p1, 1], X[p2, 1]], color='black');"
   ]
  },
  {
   "cell_type": "code",
   "execution_count": 7,
   "metadata": {
    "collapsed": false
   },
   "outputs": [
    {
     "name": "stdout",
     "output_type": "stream",
     "text": [
      "[14, 0, 7, 6, 15] [3, 0, 2, 1, 4] 0.814720755701541\n"
     ]
    }
   ],
   "source": [
    "n_sets = 5\n",
    "X, set_to_points_dict, distances_array = generate_random_input(n_sets)\n",
    "\n",
    "optimal_path_in_points_idxs, optimal_path_in_sets_idxs, optimal_cost = DP_Set_TSP(set_to_points_dict, distances_array)\n",
    "print(optimal_path_in_points_idxs, optimal_path_in_sets_idxs, optimal_cost)"
   ]
  },
  {
   "cell_type": "code",
   "execution_count": 9,
   "metadata": {
    "collapsed": false
   },
   "outputs": [
    {
     "data": {
      "image/png": "[encoded data removed]",
      "text/plain": [
       "<Figure size 432x288 with 1 Axes>"
      ]
     },
     "metadata": {
      "needs_background": "light"
     },
     "output_type": "display_data"
    }
   ],
   "source": [
    "plot_route(X, optimal_path_in_points_idxs, set_to_points_dict)"
   ]
  },
  {
   "cell_type": "code",
   "execution_count": null,
   "metadata": {
    "collapsed": true
   },
   "outputs": [],
   "source": []
  },
  {
   "cell_type": "code",
   "execution_count": null,
   "metadata": {
    "collapsed": true
   },
   "outputs": [],
   "source": []
  },
  {
   "cell_type": "code",
   "execution_count": null,
   "metadata": {
    "collapsed": true
   },
   "outputs": [],
   "source": []
  },
  {
   "cell_type": "code",
   "execution_count": null,
   "metadata": {
    "collapsed": true
   },
   "outputs": [],
   "source": []
  },
  {
   "cell_type": "code",
   "execution_count": null,
   "metadata": {
    "collapsed": true
   },
   "outputs": [],
   "source": []
  },
  {
   "cell_type": "code",
   "execution_count": null,
   "metadata": {
    "collapsed": false
   },
   "outputs": [],
   "source": [
    "set_to_points_dict = {0: [0, 1, 2], 1: [3, 4, 5], 2: [6, 7]}\n",
    "dist_mat = np.array([[  0, 345, 850, 650, 457, 833, 101, 659],\n",
    "       [345,   0, 812, 766, 456, 739, 260, 718],\n",
    "       [850, 812,   0, 366, 396, 140, 874, 257],\n",
    "       [650, 766, 366,   0, 327, 460, 712, 121],\n",
    "       [457, 456, 396, 327,   0, 381, 478, 261],\n",
    "       [833, 739, 140, 460, 381,   0, 840, 340],\n",
    "       [101, 260, 874, 712, 478, 840,   0, 706],\n",
    "       [659, 718, 257, 121, 261, 340, 706,   0]])"
   ]
  },
  {
   "cell_type": "code",
   "execution_count": null,
   "metadata": {
    "collapsed": false
   },
   "outputs": [],
   "source": [
    "optimal_path_in_points, optimal_path_in_sets, optimal_cost = DP_Set_TSP(set_to_points_dict, distances_array)\n",
    "print(optimal_path_in_points, optimal_path_in_sets, optimal_cost)"
   ]
  },
  {
   "cell_type": "code",
   "execution_count": null,
   "metadata": {
    "collapsed": true
   },
   "outputs": [],
   "source": [
    "plot_route(X, optimal_path_in_points)"
   ]
  },
  {
   "cell_type": "code",
   "execution_count": null,
   "metadata": {
    "collapsed": true
   },
   "outputs": [],
   "source": [
    "def plot_route_on_map()"
   ]
  },
  {
   "cell_type": "code",
   "execution_count": null,
   "metadata": {
    "collapsed": true
   },
   "outputs": [],
   "source": []
  },
  {
   "cell_type": "code",
   "execution_count": null,
   "metadata": {
    "collapsed": true
   },
   "outputs": [],
   "source": []
  },
  {
   "cell_type": "code",
   "execution_count": null,
   "metadata": {
    "collapsed": true
   },
   "outputs": [],
   "source": []
  }
 ],
 "metadata": {
  "anaconda-cloud": {},
  "kernelspec": {
   "display_name": "quay_rnd",
   "language": "python",
   "name": "quay_rnd"
  },
  "language_info": {
   "codemirror_mode": {
    "name": "ipython",
    "version": 3
   },
   "file_extension": ".py",
   "mimetype": "text/x-python",
   "name": "python",
   "nbconvert_exporter": "python",
   "pygments_lexer": "ipython3",
   "version": "3.7.3"
  }
 },
 "nbformat": 4,
 "nbformat_minor": 1
}
