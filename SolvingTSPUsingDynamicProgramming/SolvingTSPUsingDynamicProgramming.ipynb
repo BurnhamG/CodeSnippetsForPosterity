{
 "cells": [
  {
   "cell_type": "markdown",
   "metadata": {},
   "source": [
    "# Solving TSP Using Dynamic Programming\n",
    "\n",
    "## This notebook was created to serve a blog post by the same name. which will one be written..."
   ]
  },
  {
   "cell_type": "code",
   "execution_count": 1,
   "metadata": {
    "collapsed": true
   },
   "outputs": [],
   "source": [
    "import numpy as np\n",
    "\n",
    "import matplotlib.pyplot as plt\n",
    "%matplotlib inline"
   ]
  },
  {
   "cell_type": "code",
   "execution_count": 2,
   "metadata": {
    "collapsed": true
   },
   "outputs": [],
   "source": [
    "def DP_TSP(distances_array):\n",
    "    n = len(distances_array)\n",
    "    all_points_set = set(range(n))\n",
    "\n",
    "    # memo keys: tuple(sorted_points_in_path, last_point_in_path)\n",
    "    # memo values: tuple(cost_thus_far, next_to_last_point_in_path)\n",
    "    memo = {(tuple([i]), i): tuple([0, None]) for i in range(n)}\n",
    "    queue = [(tuple([i]), i) for i in range(n)]\n",
    "\n",
    "    while queue:\n",
    "        prev_visited, prev_last_point = queue.pop(0)\n",
    "        prev_dist, _ = memo[(prev_visited, prev_last_point)]\n",
    "\n",
    "        to_visit = all_points_set.difference(set(prev_visited))\n",
    "        for new_last_point in to_visit:\n",
    "            new_visited = tuple(sorted(list(prev_visited) + [new_last_point]))\n",
    "            new_dist = prev_dist + distances_array[prev_last_point][new_last_point]\n",
    "\n",
    "            if (new_visited, new_last_point) not in memo:\n",
    "                memo[(new_visited, new_last_point)] = (new_dist, prev_last_point)\n",
    "                queue += [(new_visited, new_last_point)]\n",
    "            else:\n",
    "                if new_dist < memo[(new_visited, new_last_point)][0]:\n",
    "                    memo[(new_visited, new_last_point)] = (new_dist, prev_last_point)\n",
    "\n",
    "    optimal_path, optimal_cost = retrace_optimal_path(memo, n)\n",
    "    \n",
    "    return optimal_path, optimal_cost"
   ]
  },
  {
   "cell_type": "code",
   "execution_count": 3,
   "metadata": {
    "collapsed": true
   },
   "outputs": [],
   "source": [
    "def retrace_optimal_path(memo: dict, n: int) -> [[int], float]:\n",
    "    points_to_retrace = tuple(range(n))\n",
    "\n",
    "    full_path_memo = dict((k, v) for k, v in memo.items() if k[0] == points_to_retrace)\n",
    "    path_key = min(full_path_memo.keys(), key=lambda x: full_path_memo[x][0])\n",
    "\n",
    "    last_point = path_key[1]\n",
    "    optimal_cost, next_to_last_point = memo[path_key]\n",
    "\n",
    "    optimal_path = [last_point]\n",
    "    points_to_retrace = tuple(set(points_to_retrace).difference({last_point}))\n",
    "\n",
    "    while next_to_last_point is not None:\n",
    "        path_key = (points_to_retrace, next_to_last_point)\n",
    "        last_point = path_key[1]\n",
    "        _, next_to_last_point = memo[path_key]\n",
    "\n",
    "        optimal_path = [last_point] + optimal_path\n",
    "        points_to_retrace = tuple(set(points_to_retrace).difference({last_point}))\n",
    "\n",
    "    return optimal_path, optimal_cost"
   ]
  },
  {
   "cell_type": "code",
   "execution_count": 4,
   "metadata": {
    "collapsed": false
   },
   "outputs": [
    {
     "data": {
      "image/png": "[encoded data removed]",
      "text/plain": [
       "<Figure size 432x288 with 1 Axes>"
      ]
     },
     "metadata": {
      "needs_background": "light"
     },
     "output_type": "display_data"
    }
   ],
   "source": [
    "n_points = 5\n",
    "X = np.random.rand(n_points, 2)\n",
    "distances_array = np.array([[np.linalg.norm(X[i] - X[j])\n",
    "                             for i in range(n_points)]\n",
    "                            for j in range(n_points)])\n",
    "plt.scatter(X[:, 0], X[:, 1]);"
   ]
  },
  {
   "cell_type": "code",
   "execution_count": 5,
   "metadata": {
    "collapsed": false
   },
   "outputs": [
    {
     "data": {
      "text/plain": [
       "([2, 4, 0, 1, 3], 1.6779398111061163)"
      ]
     },
     "execution_count": 5,
     "metadata": {},
     "output_type": "execute_result"
    }
   ],
   "source": [
    "DP_TSP(distances_array)"
   ]
  },
  {
   "cell_type": "code",
   "execution_count": null,
   "metadata": {
    "collapsed": true
   },
   "outputs": [],
   "source": []
  },
  {
   "cell_type": "code",
   "execution_count": null,
   "metadata": {
    "collapsed": true
   },
   "outputs": [],
   "source": []
  }
 ],
 "metadata": {
  "anaconda-cloud": {},
  "kernelspec": {
   "display_name": "quay_rnd",
   "language": "python",
   "name": "quay_rnd"
  },
  "language_info": {
   "codemirror_mode": {
    "name": "ipython",
    "version": 3
   },
   "file_extension": ".py",
   "mimetype": "text/x-python",
   "name": "python",
   "nbconvert_exporter": "python",
   "pygments_lexer": "ipython3",
   "version": "3.7.3"
  }
 },
 "nbformat": 4,
 "nbformat_minor": 1
}
