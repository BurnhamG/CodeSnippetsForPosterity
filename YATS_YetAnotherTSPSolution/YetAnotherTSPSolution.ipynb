{
 "cells": [
  {
   "cell_type": "markdown",
   "metadata": {},
   "source": [
    "# YATS - Yet Another TSP Solution\n",
    "\n",
    "## This notebook was created to serve a blog post by the same name."
   ]
  },
  {
   "cell_type": "code",
   "execution_count": 1,
   "metadata": {
    "collapsed": true
   },
   "outputs": [],
   "source": [
    "# written in python 3.7.3\n",
    "import numpy as np\n",
    "import math\n",
    "from geojson import LineString, Point, Feature, FeatureCollection\n",
    "import geojsonio\n",
    "import json\n",
    "import random\n",
    "random_seed = 42\n",
    "random.seed(random_seed)"
   ]
  },
  {
   "cell_type": "markdown",
   "metadata": {},
   "source": [
    "# Part I - The Code For Our Solution"
   ]
  },
  {
   "cell_type": "markdown",
   "metadata": {},
   "source": [
    "### The Geographic Building Blocks"
   ]
  },
  {
   "cell_type": "code",
   "execution_count": 2,
   "metadata": {
    "collapsed": true
   },
   "outputs": [],
   "source": [
    "class GeoPoint:\n",
    "    def __init__(self, lng: float, lat: float):\n",
    "        # Why 5 digits? According to https://en.wikipedia.org/wiki/Decimal_degrees it's 1m. accuracy.\n",
    "        self.lng = round(lng, 5)\n",
    "        self.lat = round(lat, 5)\n",
    "        \n",
    "    def __repr__(self):\n",
    "        # copy-pastable format to most map applications\n",
    "        return f\"[{self.lng}, {self.lat}]\"\n",
    "        \n",
    "def euclidean_dist(geo_point_1: GeoPoint, geo_point_2: GeoPoint) -> float:\n",
    "    d = np.linalg.norm(np.array([geo_point_1.lat, geo_point_1.lng])\n",
    "                       - np.array([geo_point_2.lat, geo_point_2.lng]))\n",
    "    return d\n",
    "\n",
    "def get_geo_point_of_center(geo_points: [GeoPoint]) -> GeoPoint:\n",
    "    lng_list, lat_list = list(zip(*[[g.lng, g.lat] for g in geo_points]))\n",
    "    lng_center, lat_center = np.mean(np.array([lng_list, lat_list]), axis=1)\n",
    "    return GeoPoint(lng_center, lat_center)\n",
    "\n",
    "def get_angle_from_reference_geo_point_in_deg(reference_geo_point: GeoPoint, other_geo_point: GeoPoint) -> float:\n",
    "    x = other_geo_point.lng - reference_geo_point.lng\n",
    "    y = other_geo_point.lat - reference_geo_point.lat\n",
    "    angle_from_reference_in_deg = math.degrees(math.atan2(y, x))\n",
    "    return angle_from_reference_in_deg"
   ]
  },
  {
   "cell_type": "markdown",
   "metadata": {},
   "source": [
    "### Our Initial Route - An Angular Route"
   ]
  },
  {
   "cell_type": "code",
   "execution_count": 3,
   "metadata": {
    "collapsed": true
   },
   "outputs": [],
   "source": [
    "def get_angular_route(geo_points: [GeoPoint]) -> [int]:\n",
    "    center = get_geo_point_of_center(geo_points)\n",
    "    route_idxs = sorted(list(range(len(geo_points))), \n",
    "                        key=lambda i: \n",
    "                        get_angle_from_reference_geo_point_in_deg(center, geo_points[i]),\n",
    "                        reverse=True)\n",
    "    return route_idxs"
   ]
  },
  {
   "cell_type": "markdown",
   "metadata": {},
   "source": [
    "### Visualizing"
   ]
  },
  {
   "cell_type": "code",
   "execution_count": 4,
   "metadata": {
    "collapsed": true
   },
   "outputs": [],
   "source": [
    "def visualize(route_idxs: [int], geo_points: [GeoPoint]):\n",
    "    lng_lat_list = [tuple([geo_points[i].lng, geo_points[i].lat])\n",
    "                    for i in route_idxs]\n",
    "    route = Feature(geometry=LineString(lng_lat_list),\n",
    "                    properties={\"name\": \"This is our route\",\n",
    "                                \"stroke\": \"#8B0000\"})\n",
    "    places = [Feature(geometry=Point(lng_lat), \n",
    "                      properties={\"name\": f\"Place {route_idxs[i]}\",\n",
    "                                  \"marker-symbol\": int(str(i)[-1]),\n",
    "                                  \"marker-color\": \"#00008B\"})\n",
    "              for i, lng_lat in enumerate(lng_lat_list)]\n",
    "    \n",
    "    feature_collection = FeatureCollection(features=[route] + places)\n",
    "    geojsonio.display(json.dumps(feature_collection));"
   ]
  },
  {
   "cell_type": "markdown",
   "metadata": {},
   "source": [
    "### Optimization step"
   ]
  },
  {
   "cell_type": "code",
   "execution_count": 5,
   "metadata": {
    "collapsed": true
   },
   "outputs": [],
   "source": [
    "def get_route_len(distances_array: np.array, route_idxs):\n",
    "    route_len = sum([distances_array[i1][i2]\n",
    "                     for i1, i2 in zip(route_idxs[:-1], route_idxs[1:])])\n",
    "    return route_len\n",
    "\n",
    "def optimize_route(distances_array: np.array, route_idxs: [int], n_iter: int) -> [int]:\n",
    "    prev_cost = get_route_len(distances_array, route_idxs)\n",
    "    \n",
    "    all_idxs = list(range(len(route_idxs)))\n",
    "    for _ in range(n_iter):    \n",
    "        i1, i2 = random.sample(all_idxs, 2)\n",
    "        route_idxs[i2], route_idxs[i1] = route_idxs[i1], route_idxs[i2]\n",
    "        new_cost = get_route_len(distances_array, route_idxs)\n",
    "        if new_cost < prev_cost:\n",
    "            prev_cost = new_cost\n",
    "        else:\n",
    "            route_idxs[i2], route_idxs[i1] = route_idxs[i1], route_idxs[i2]\n",
    "    return route_idxs"
   ]
  },
  {
   "cell_type": "markdown",
   "metadata": {},
   "source": [
    "### Wrap It All Up"
   ]
  },
  {
   "cell_type": "code",
   "execution_count": 6,
   "metadata": {
    "collapsed": true
   },
   "outputs": [],
   "source": [
    "def plot_best_route(geo_points: [GeoPoint], distances_array: np.array, n_iter: int) -> None:\n",
    "    route_idxs = get_angular_route(geo_points)\n",
    "    route_idxs = optimize_route(distances_array, route_idxs, n_iter)\n",
    "    visualize(route_idxs, geo_points)"
   ]
  },
  {
   "cell_type": "markdown",
   "metadata": {},
   "source": [
    "# Part II - My Friday Morning Errands"
   ]
  },
  {
   "cell_type": "code",
   "execution_count": 7,
   "metadata": {
    "collapsed": false
   },
   "outputs": [],
   "source": [
    "rice = GeoPoint(34.904145, 32.178397)\n",
    "veg = GeoPoint(34.899660, 32.178243)\n",
    "pet= GeoPoint(34.899918, 32.177080)\n",
    "garden = GeoPoint(34.904370, 32.173966)\n",
    "pharm = GeoPoint(34.909027, 32.177480)\n",
    "pasta = GeoPoint(34.906774, 32.178279)\n",
    "pita = GeoPoint(34.903383, 32.177381)\n",
    "\n",
    "geo_points = [rice, veg, pet, garden, pharm, pasta, pita]"
   ]
  },
  {
   "cell_type": "code",
   "execution_count": 8,
   "metadata": {
    "collapsed": false
   },
   "outputs": [
    {
     "data": {
      "text/plain": [
       "array([[   0,  600,  550,  600,  650,  400,  150],\n",
       "       [ 600,    0,  170,  900, 1100,  850,  550],\n",
       "       [ 550,  170,    0,  750, 1000,  850,  400],\n",
       "       [ 600,  900,  750,    0,  900,  750,  600],\n",
       "       [ 650, 1100, 1000,  900,    0,  260,  700],\n",
       "       [ 400,  850,  850,  750,  260,    0,  500],\n",
       "       [ 150,  550,  400,  600,  700,  500,    0]])"
      ]
     },
     "execution_count": 8,
     "metadata": {},
     "output_type": "execute_result"
    }
   ],
   "source": [
    "distances_array = np.array([[0, 600, 550, 600, 650, 400, 150], \n",
    "                            [0, 0, 170, 900, 1100, 850, 550], \n",
    "                            [0, 0, 0, 750, 1000, 850, 400], \n",
    "                            [0, 0, 0, 0, 900, 750, 600], \n",
    "                            [0, 0, 0, 0, 0, 260, 700], \n",
    "                            [0, 0, 0, 0, 0, 0, 500], \n",
    "                            [0] * 7])\n",
    "distances_array += distances_array.transpose()\n",
    "distances_array"
   ]
  },
  {
   "cell_type": "code",
   "execution_count": 9,
   "metadata": {
    "collapsed": true
   },
   "outputs": [],
   "source": [
    "plot_best_route(geo_points, distances_array, 100)"
   ]
  },
  {
   "cell_type": "markdown",
   "metadata": {},
   "source": [
    "# Part III - A Larger Experiment"
   ]
  },
  {
   "cell_type": "code",
   "execution_count": 10,
   "metadata": {
    "collapsed": true
   },
   "outputs": [],
   "source": [
    "def euclidean_dist(geo_point_1: GeoPoint, geo_point_2: GeoPoint):\n",
    "    d = np.linalg.norm(np.array([geo_point_1.lat, geo_point_1.lng])\n",
    "                       - np.array([geo_point_2.lat, geo_point_2.lng]))\n",
    "    return d"
   ]
  },
  {
   "cell_type": "code",
   "execution_count": 11,
   "metadata": {
    "collapsed": false
   },
   "outputs": [],
   "source": [
    "n_points = 50\n",
    "geo_points = [GeoPoint(34.8 + (0.1 * random.random()), 32.1 + (0.1 * random.random()))\n",
    "              for _ in range(n_points)]\n",
    "distances_array = np.array([[euclidean_dist(g_from, g_to)\n",
    "                             for g_to in geo_points]\n",
    "                            for g_from in geo_points])"
   ]
  },
  {
   "cell_type": "code",
   "execution_count": 12,
   "metadata": {
    "collapsed": false
   },
   "outputs": [
    {
     "name": "stdout",
     "output_type": "stream",
     "text": [
      "Route length for random order: 2.8800609543466313\n",
      "Initial route length: 0.9013753942969249\n",
      "Final route length: 0.6142705755858876\n",
      "Wall time: 628 ms\n"
     ]
    }
   ],
   "source": [
    "%%time\n",
    "\n",
    "n_iter = 10000\n",
    "random_cost = get_route_len(distances_array, list(range(n_points)))\n",
    "print(f\"Route length for random order: {random_cost}\")\n",
    "route_idxs = get_angular_route(geo_points)\n",
    "first_cost = get_route_len(distances_array, route_idxs)\n",
    "print(f\"Initial route length: {first_cost}\")\n",
    "route_idxs = optimize_route(distances_array, route_idxs, n_iter)\n",
    "last_cost = get_route_len(distances_array, route_idxs)\n",
    "print(f\"Final route length: {last_cost}\")\n",
    "visualize(route_idxs, geo_points)"
   ]
  }
 ],
 "metadata": {
  "anaconda-cloud": {},
  "kernelspec": {
   "display_name": "quay_rnd",
   "language": "python",
   "name": "quay_rnd"
  },
  "language_info": {
   "codemirror_mode": {
    "name": "ipython",
    "version": 3
   },
   "file_extension": ".py",
   "mimetype": "text/x-python",
   "name": "python",
   "nbconvert_exporter": "python",
   "pygments_lexer": "ipython3",
   "version": "3.7.3"
  }
 },
 "nbformat": 4,
 "nbformat_minor": 1
}
